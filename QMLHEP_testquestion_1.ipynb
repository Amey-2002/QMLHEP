{
 "cells": [
  {
   "cell_type": "code",
   "execution_count": 1,
   "id": "2c3424ef",
   "metadata": {},
   "outputs": [
    {
     "name": "stdout",
     "output_type": "stream",
     "text": [
      "Collecting cirq\n",
      "  Downloading cirq-0.14.0-py3-none-any.whl (7.8 kB)\n",
      "Collecting cirq-web==0.14.0\n",
      "  Downloading cirq_web-0.14.0-py3-none-any.whl (593 kB)\n",
      "Collecting cirq-pasqal==0.14.0\n",
      "  Downloading cirq_pasqal-0.14.0-py3-none-any.whl (30 kB)\n",
      "Collecting cirq-ionq==0.14.0\n",
      "  Downloading cirq_ionq-0.14.0-py3-none-any.whl (48 kB)\n",
      "Collecting cirq-rigetti==0.14.0\n",
      "  Downloading cirq_rigetti-0.14.0-py3-none-any.whl (56 kB)\n",
      "Collecting cirq-core==0.14.0\n",
      "  Downloading cirq_core-0.14.0-py3-none-any.whl (1.8 MB)\n",
      "Collecting cirq-aqt==0.14.0\n",
      "  Downloading cirq_aqt-0.14.0-py3-none-any.whl (19 kB)\n",
      "Collecting cirq-google==0.14.0\n",
      "  Downloading cirq_google-0.14.0-py3-none-any.whl (541 kB)\n",
      "Requirement already satisfied: requests~=2.18 in c:\\users\\ameyb\\anaconda3\\lib\\site-packages (from cirq-aqt==0.14.0->cirq) (2.25.1)\n",
      "Requirement already satisfied: sortedcontainers~=2.0 in c:\\users\\ameyb\\anaconda3\\lib\\site-packages (from cirq-core==0.14.0->cirq) (2.3.0)\n",
      "Requirement already satisfied: typing-extensions in c:\\users\\ameyb\\anaconda3\\lib\\site-packages (from cirq-core==0.14.0->cirq) (3.7.4.3)\n",
      "Requirement already satisfied: scipy in c:\\users\\ameyb\\anaconda3\\lib\\site-packages (from cirq-core==0.14.0->cirq) (1.6.2)\n",
      "Requirement already satisfied: matplotlib~=3.0 in c:\\users\\ameyb\\anaconda3\\lib\\site-packages (from cirq-core==0.14.0->cirq) (3.3.4)\n",
      "Requirement already satisfied: networkx~=2.4 in c:\\users\\ameyb\\anaconda3\\lib\\site-packages (from cirq-core==0.14.0->cirq) (2.5)\n",
      "Requirement already satisfied: sympy<1.10 in c:\\users\\ameyb\\anaconda3\\lib\\site-packages (from cirq-core==0.14.0->cirq) (1.8)\n",
      "Requirement already satisfied: pandas in c:\\users\\ameyb\\anaconda3\\lib\\site-packages (from cirq-core==0.14.0->cirq) (1.2.4)\n",
      "Requirement already satisfied: tqdm in c:\\users\\ameyb\\anaconda3\\lib\\site-packages (from cirq-core==0.14.0->cirq) (4.59.0)\n",
      "Collecting duet~=0.2.0\n",
      "  Downloading duet-0.2.5-py3-none-any.whl (28 kB)\n",
      "Requirement already satisfied: numpy~=1.16 in c:\\users\\ameyb\\anaconda3\\lib\\site-packages (from cirq-core==0.14.0->cirq) (1.20.1)\n",
      "Collecting google-api-core[grpc]<2.0.0dev,>=1.14.0\n",
      "  Downloading google_api_core-1.31.5-py2.py3-none-any.whl (93 kB)\n",
      "Requirement already satisfied: protobuf>=3.13.0 in c:\\users\\ameyb\\anaconda3\\lib\\site-packages (from cirq-google==0.14.0->cirq) (3.19.4)\n",
      "Collecting httpx~=0.15.5\n",
      "  Downloading httpx-0.15.5-py3-none-any.whl (65 kB)\n",
      "Requirement already satisfied: attrs~=20.3.0 in c:\\users\\ameyb\\anaconda3\\lib\\site-packages (from cirq-rigetti==0.14.0->cirq) (20.3.0)\n",
      "Collecting rfc3986~=1.5.0\n",
      "  Downloading rfc3986-1.5.0-py2.py3-none-any.whl (31 kB)\n",
      "Requirement already satisfied: toml~=0.10.2 in c:\\users\\ameyb\\anaconda3\\lib\\site-packages (from cirq-rigetti==0.14.0->cirq) (0.10.2)\n",
      "Collecting certifi~=2021.5.30\n",
      "  Downloading certifi-2021.5.30-py2.py3-none-any.whl (145 kB)\n",
      "Requirement already satisfied: python-dateutil~=2.8.1 in c:\\users\\ameyb\\anaconda3\\lib\\site-packages (from cirq-rigetti==0.14.0->cirq) (2.8.1)\n",
      "Collecting iso8601~=0.1.14\n",
      "  Downloading iso8601-0.1.16-py2.py3-none-any.whl (10 kB)\n",
      "Collecting six~=1.16.0\n",
      "  Using cached six-1.16.0-py2.py3-none-any.whl (11 kB)\n",
      "Collecting httpcore~=0.11.1\n",
      "  Downloading httpcore-0.11.1-py3-none-any.whl (52 kB)\n",
      "Collecting pyjwt~=1.7.1\n",
      "  Using cached PyJWT-1.7.1-py2.py3-none-any.whl (18 kB)\n",
      "Requirement already satisfied: idna~=2.10 in c:\\users\\ameyb\\anaconda3\\lib\\site-packages (from cirq-rigetti==0.14.0->cirq) (2.10)\n",
      "Collecting retrying~=1.3.3\n",
      "  Downloading retrying-1.3.3.tar.gz (10 kB)\n",
      "Requirement already satisfied: sniffio~=1.2.0 in c:\\users\\ameyb\\anaconda3\\lib\\site-packages (from cirq-rigetti==0.14.0->cirq) (1.2.0)\n",
      "Collecting rfc3339~=6.2\n",
      "  Downloading rfc3339-6.2-py3-none-any.whl (5.5 kB)\n",
      "Collecting pydantic~=1.8.2\n",
      "  Downloading pydantic-1.8.2-cp38-cp38-win_amd64.whl (2.0 MB)\n",
      "Collecting pyquil~=3.0.0\n",
      "  Downloading pyquil-3.0.1-py3-none-any.whl (220 kB)\n",
      "Collecting qcs-api-client~=0.8.0\n",
      "  Downloading qcs_api_client-0.8.0-py3-none-any.whl (97 kB)\n",
      "Collecting h11~=0.9.0\n",
      "  Downloading h11-0.9.0-py2.py3-none-any.whl (53 kB)\n",
      "Collecting googleapis-common-protos<2.0dev,>=1.6.0\n",
      "  Downloading googleapis_common_protos-1.56.0-py2.py3-none-any.whl (241 kB)\n",
      "Collecting google-auth<2.0dev,>=1.25.0\n",
      "  Downloading google_auth-1.35.0-py2.py3-none-any.whl (152 kB)\n",
      "Requirement already satisfied: pytz in c:\\users\\ameyb\\anaconda3\\lib\\site-packages (from google-api-core[grpc]<2.0.0dev,>=1.14.0->cirq-google==0.14.0->cirq) (2021.1)\n",
      "Requirement already satisfied: packaging>=14.3 in c:\\users\\ameyb\\anaconda3\\lib\\site-packages (from google-api-core[grpc]<2.0.0dev,>=1.14.0->cirq-google==0.14.0->cirq) (20.9)\n",
      "Requirement already satisfied: setuptools>=40.3.0 in c:\\users\\ameyb\\anaconda3\\lib\\site-packages (from google-api-core[grpc]<2.0.0dev,>=1.14.0->cirq-google==0.14.0->cirq) (52.0.0.post20210125)\n",
      "Requirement already satisfied: grpcio<2.0dev,>=1.29.0 in c:\\users\\ameyb\\anaconda3\\lib\\site-packages (from google-api-core[grpc]<2.0.0dev,>=1.14.0->cirq-google==0.14.0->cirq) (1.44.0)\n",
      "Requirement already satisfied: pyasn1-modules>=0.2.1 in c:\\users\\ameyb\\anaconda3\\lib\\site-packages (from google-auth<2.0dev,>=1.25.0->google-api-core[grpc]<2.0.0dev,>=1.14.0->cirq-google==0.14.0->cirq) (0.2.8)\n",
      "Collecting cachetools<5.0,>=2.0.0\n",
      "  Downloading cachetools-4.2.4-py3-none-any.whl (10 kB)\n",
      "Requirement already satisfied: rsa<5,>=3.1.4 in c:\\users\\ameyb\\anaconda3\\lib\\site-packages (from google-auth<2.0dev,>=1.25.0->google-api-core[grpc]<2.0.0dev,>=1.14.0->cirq-google==0.14.0->cirq) (4.8)\n",
      "Requirement already satisfied: cycler>=0.10 in c:\\users\\ameyb\\anaconda3\\lib\\site-packages (from matplotlib~=3.0->cirq-core==0.14.0->cirq) (0.10.0)\n",
      "Requirement already satisfied: pyparsing!=2.0.4,!=2.1.2,!=2.1.6,>=2.0.3 in c:\\users\\ameyb\\anaconda3\\lib\\site-packages (from matplotlib~=3.0->cirq-core==0.14.0->cirq) (2.4.7)\n",
      "Requirement already satisfied: kiwisolver>=1.0.1 in c:\\users\\ameyb\\anaconda3\\lib\\site-packages (from matplotlib~=3.0->cirq-core==0.14.0->cirq) (1.3.1)\n",
      "Requirement already satisfied: pillow>=6.2.0 in c:\\users\\ameyb\\anaconda3\\lib\\site-packages (from matplotlib~=3.0->cirq-core==0.14.0->cirq) (8.2.0)\n",
      "Requirement already satisfied: decorator>=4.3.0 in c:\\users\\ameyb\\anaconda3\\lib\\site-packages (from networkx~=2.4->cirq-core==0.14.0->cirq) (5.0.6)\n",
      "Requirement already satisfied: pyasn1<0.5.0,>=0.4.6 in c:\\users\\ameyb\\anaconda3\\lib\\site-packages (from pyasn1-modules>=0.2.1->google-auth<2.0dev,>=1.25.0->google-api-core[grpc]<2.0.0dev,>=1.14.0->cirq-google==0.14.0->cirq) (0.4.8)\n",
      "Collecting lark<0.12.0,>=0.11.1\n",
      "  Downloading lark-0.11.3.tar.gz (229 kB)\n",
      "Collecting rpcq<4.0.0,>=3.6.0\n",
      "  Downloading rpcq-3.9.2.tar.gz (43 kB)\n",
      "Collecting retry<0.10.0,>=0.9.2\n",
      "  Downloading retry-0.9.2-py2.py3-none-any.whl (8.0 kB)\n",
      "Requirement already satisfied: urllib3<1.27,>=1.21.1 in c:\\users\\ameyb\\anaconda3\\lib\\site-packages (from requests~=2.18->cirq-aqt==0.14.0->cirq) (1.26.4)\n",
      "Requirement already satisfied: chardet<5,>=3.0.2 in c:\\users\\ameyb\\anaconda3\\lib\\site-packages (from requests~=2.18->cirq-aqt==0.14.0->cirq) (4.0.0)\n",
      "Requirement already satisfied: py<2.0.0,>=1.4.26 in c:\\users\\ameyb\\anaconda3\\lib\\site-packages (from retry<0.10.0,>=0.9.2->pyquil~=3.0.0->cirq-rigetti==0.14.0->cirq) (1.10.0)\n",
      "Collecting msgpack<1.0,>=0.6\n",
      "  Downloading msgpack-0.6.2.tar.gz (119 kB)\n",
      "Collecting python-rapidjson\n",
      "  Downloading python_rapidjson-1.6-cp38-cp38-win_amd64.whl (143 kB)\n",
      "Requirement already satisfied: pyzmq>=17 in c:\\users\\ameyb\\anaconda3\\lib\\site-packages (from rpcq<4.0.0,>=3.6.0->pyquil~=3.0.0->cirq-rigetti==0.14.0->cirq) (20.0.0)\n",
      "Collecting ruamel.yaml\n",
      "  Downloading ruamel.yaml-0.17.21-py3-none-any.whl (109 kB)\n",
      "Requirement already satisfied: mpmath>=0.19 in c:\\users\\ameyb\\anaconda3\\lib\\site-packages (from sympy<1.10->cirq-core==0.14.0->cirq) (1.2.1)\n",
      "Collecting ruamel.yaml.clib>=0.2.6\n",
      "  Downloading ruamel.yaml.clib-0.2.6-cp38-cp38-win_amd64.whl (117 kB)\n",
      "Building wheels for collected packages: lark, retrying, rpcq, msgpack\n",
      "  Building wheel for lark (setup.py): started\n",
      "  Building wheel for lark (setup.py): finished with status 'done'\n",
      "  Created wheel for lark: filename=lark-0.11.3-py2.py3-none-any.whl size=99635 sha256=155e7e2100b52b4d75f8b42f117bb6698394e89cd998645896af53ed1a02d1ba\n",
      "  Stored in directory: c:\\users\\ameyb\\appdata\\local\\pip\\cache\\wheels\\34\\cb\\6c\\4df359c2a3f0a1af4cccae6392bee423bb5aff530103de3538\n",
      "  Building wheel for retrying (setup.py): started\n",
      "  Building wheel for retrying (setup.py): finished with status 'done'\n",
      "  Created wheel for retrying: filename=retrying-1.3.3-py3-none-any.whl size=11429 sha256=e25e954dd607b67304a1195b8285ae5e67180926f92f23e8530da1a489c1c5bd\n",
      "  Stored in directory: c:\\users\\ameyb\\appdata\\local\\pip\\cache\\wheels\\c4\\a7\\48\\0a434133f6d56e878ca511c0e6c38326907c0792f67b476e56\n",
      "  Building wheel for rpcq (setup.py): started\n",
      "  Building wheel for rpcq (setup.py): finished with status 'done'\n",
      "  Created wheel for rpcq: filename=rpcq-3.9.2-py3-none-any.whl size=45865 sha256=74d9bce012f3f24fc0fe440ee93502f2efd71bd8bc10324efde8e15d89af21f1\n",
      "  Stored in directory: c:\\users\\ameyb\\appdata\\local\\pip\\cache\\wheels\\20\\fd\\8d\\4d4a9f389a9c92210dbee8ca8bbd725a6204f64a8ca8cad841\n",
      "  Building wheel for msgpack (setup.py): started\n",
      "  Building wheel for msgpack (setup.py): finished with status 'done'\n",
      "  Created wheel for msgpack: filename=msgpack-0.6.2-cp38-cp38-win_amd64.whl size=73428 sha256=c9451975d58a7a983fc5b1ef7e660a774c871f8f4f2d6373645cdba003b70589\n",
      "  Stored in directory: c:\\users\\ameyb\\appdata\\local\\pip\\cache\\wheels\\5d\\f2\\04\\0d19c10080b996bef17c908a6243e6e65d8da1a4094a3f604d\n",
      "Successfully built lark retrying rpcq msgpack\n",
      "Installing collected packages: rfc3986, h11, six, ruamel.yaml.clib, httpcore, certifi, cachetools, ruamel.yaml, rfc3339, retrying, python-rapidjson, pyjwt, pydantic, msgpack, iso8601, httpx, googleapis-common-protos, google-auth, rpcq, retry, qcs-api-client, lark, google-api-core, duet, pyquil, cirq-core, cirq-web, cirq-rigetti, cirq-pasqal, cirq-ionq, cirq-google, cirq-aqt, cirq\n",
      "  Attempting uninstall: six\n",
      "    Found existing installation: six 1.15.0\n",
      "    Uninstalling six-1.15.0:\n",
      "      Successfully uninstalled six-1.15.0\n",
      "  Attempting uninstall: certifi\n",
      "    Found existing installation: certifi 2020.12.5\n",
      "    Uninstalling certifi-2020.12.5:\n",
      "      Successfully uninstalled certifi-2020.12.5\n",
      "  Attempting uninstall: cachetools\n",
      "    Found existing installation: cachetools 5.0.0\n",
      "    Uninstalling cachetools-5.0.0:\n",
      "      Successfully uninstalled cachetools-5.0.0\n",
      "  Attempting uninstall: msgpack\n",
      "    Found existing installation: msgpack 1.0.2\n",
      "    Uninstalling msgpack-1.0.2:\n",
      "      Successfully uninstalled msgpack-1.0.2\n",
      "  Attempting uninstall: google-auth\n",
      "    Found existing installation: google-auth 2.6.2\n",
      "    Uninstalling google-auth-2.6.2:\n",
      "      Successfully uninstalled google-auth-2.6.2\n",
      "Successfully installed cachetools-4.2.4 certifi-2021.5.30 cirq-0.14.0 cirq-aqt-0.14.0 cirq-core-0.14.0 cirq-google-0.14.0 cirq-ionq-0.14.0 cirq-pasqal-0.14.0 cirq-rigetti-0.14.0 cirq-web-0.14.0 duet-0.2.5 google-api-core-1.31.5 google-auth-1.35.0 googleapis-common-protos-1.56.0 h11-0.9.0 httpcore-0.11.1 httpx-0.15.5 iso8601-0.1.16 lark-0.11.3 msgpack-0.6.2 pydantic-1.8.2 pyjwt-1.7.1 pyquil-3.0.1 python-rapidjson-1.6 qcs-api-client-0.8.0 retry-0.9.2 retrying-1.3.3 rfc3339-6.2 rfc3986-1.5.0 rpcq-3.9.2 ruamel.yaml-0.17.21 ruamel.yaml.clib-0.2.6 six-1.16.0\n"
     ]
    },
    {
     "name": "stderr",
     "output_type": "stream",
     "text": [
      "ERROR: pip's dependency resolver does not currently take into account all the packages that are installed. This behaviour is the source of the following dependency conflicts.\n",
      "conda-repo-cli 1.0.4 requires pathlib, which is not installed.\n"
     ]
    }
   ],
   "source": [
    "!pip install cirq"
   ]
  },
  {
   "cell_type": "code",
   "execution_count": 5,
   "id": "91003f0c",
   "metadata": {},
   "outputs": [],
   "source": [
    "import tensorflow as tf\n",
    "import numpy as np\n",
    "import cirq\n",
    "\n",
    "%matplotlib inline\n",
    "import matplotlib.pyplot as plt\n",
    "\n",
    "from cirq.contrib.svg import SVGCircuit"
   ]
  },
  {
   "cell_type": "markdown",
   "id": "0d97df6b",
   "metadata": {},
   "source": [
    "## Part 1"
   ]
  },
  {
   "cell_type": "code",
   "execution_count": 17,
   "id": "8ddce003",
   "metadata": {},
   "outputs": [
    {
     "data": {
      "image/svg+xml": [
       "<svg xmlns=\"http://www.w3.org/2000/svg\" width=\"483.9494921875\" height=\"250.0\"><line x1=\"30.0\" x2=\"453.9494921875\" y1=\"25.0\" y2=\"25.0\" stroke=\"#1967d2\" stroke-width=\"1\" /><line x1=\"30.0\" x2=\"453.9494921875\" y1=\"75.0\" y2=\"75.0\" stroke=\"#1967d2\" stroke-width=\"1\" /><line x1=\"30.0\" x2=\"453.9494921875\" y1=\"125.0\" y2=\"125.0\" stroke=\"#1967d2\" stroke-width=\"1\" /><line x1=\"30.0\" x2=\"453.9494921875\" y1=\"175.0\" y2=\"175.0\" stroke=\"#1967d2\" stroke-width=\"1\" /><line x1=\"30.0\" x2=\"453.9494921875\" y1=\"225.0\" y2=\"225.0\" stroke=\"#1967d2\" stroke-width=\"1\" /><line x1=\"150.0\" x2=\"150.0\" y1=\"25.0\" y2=\"75.0\" stroke=\"black\" stroke-width=\"3\" /><line x1=\"210.0\" x2=\"210.0\" y1=\"75.0\" y2=\"125.0\" stroke=\"black\" stroke-width=\"3\" /><line x1=\"270.0\" x2=\"270.0\" y1=\"125.0\" y2=\"175.0\" stroke=\"black\" stroke-width=\"3\" /><line x1=\"341.97474609375\" x2=\"341.97474609375\" y1=\"175.0\" y2=\"225.0\" stroke=\"black\" stroke-width=\"3\" /><line x1=\"413.9494921875\" x2=\"413.9494921875\" y1=\"25.0\" y2=\"225.0\" stroke=\"black\" stroke-width=\"3\" /><rect x=\"10.0\" y=\"5.0\" width=\"40\" height=\"40\" stroke=\"black\" fill=\"white\" stroke-width=\"0\" /><text x=\"30.0\" y=\"25.0\" dominant-baseline=\"middle\" text-anchor=\"middle\" font-size=\"14px\" font-family=\"Arial\">0: </text><rect x=\"10.0\" y=\"55.0\" width=\"40\" height=\"40\" stroke=\"black\" fill=\"white\" stroke-width=\"0\" /><text x=\"30.0\" y=\"75.0\" dominant-baseline=\"middle\" text-anchor=\"middle\" font-size=\"14px\" font-family=\"Arial\">1: </text><rect x=\"10.0\" y=\"105.0\" width=\"40\" height=\"40\" stroke=\"black\" fill=\"white\" stroke-width=\"0\" /><text x=\"30.0\" y=\"125.0\" dominant-baseline=\"middle\" text-anchor=\"middle\" font-size=\"14px\" font-family=\"Arial\">2: </text><rect x=\"10.0\" y=\"155.0\" width=\"40\" height=\"40\" stroke=\"black\" fill=\"white\" stroke-width=\"0\" /><text x=\"30.0\" y=\"175.0\" dominant-baseline=\"middle\" text-anchor=\"middle\" font-size=\"14px\" font-family=\"Arial\">3: </text><rect x=\"10.0\" y=\"205.0\" width=\"40\" height=\"40\" stroke=\"black\" fill=\"white\" stroke-width=\"0\" /><text x=\"30.0\" y=\"225.0\" dominant-baseline=\"middle\" text-anchor=\"middle\" font-size=\"14px\" font-family=\"Arial\">4: </text><rect x=\"70.0\" y=\"5.0\" width=\"40\" height=\"40\" stroke=\"black\" fill=\"white\" stroke-width=\"1\" /><text x=\"90.0\" y=\"25.0\" dominant-baseline=\"middle\" text-anchor=\"middle\" font-size=\"18px\" font-family=\"Arial\">H</text><rect x=\"70.0\" y=\"55.0\" width=\"40\" height=\"40\" stroke=\"black\" fill=\"white\" stroke-width=\"1\" /><text x=\"90.0\" y=\"75.0\" dominant-baseline=\"middle\" text-anchor=\"middle\" font-size=\"18px\" font-family=\"Arial\">H</text><rect x=\"70.0\" y=\"105.0\" width=\"40\" height=\"40\" stroke=\"black\" fill=\"white\" stroke-width=\"1\" /><text x=\"90.0\" y=\"125.0\" dominant-baseline=\"middle\" text-anchor=\"middle\" font-size=\"18px\" font-family=\"Arial\">H</text><rect x=\"70.0\" y=\"155.0\" width=\"40\" height=\"40\" stroke=\"black\" fill=\"white\" stroke-width=\"1\" /><text x=\"90.0\" y=\"175.0\" dominant-baseline=\"middle\" text-anchor=\"middle\" font-size=\"18px\" font-family=\"Arial\">H</text><rect x=\"70.0\" y=\"205.0\" width=\"40\" height=\"40\" stroke=\"black\" fill=\"white\" stroke-width=\"1\" /><text x=\"90.0\" y=\"225.0\" dominant-baseline=\"middle\" text-anchor=\"middle\" font-size=\"18px\" font-family=\"Arial\">H</text><circle cx=\"150.0\" cy=\"25.0\" r=\"10.0\" /><rect x=\"130.0\" y=\"55.0\" width=\"40\" height=\"40\" stroke=\"black\" fill=\"white\" stroke-width=\"1\" /><text x=\"150.0\" y=\"75.0\" dominant-baseline=\"middle\" text-anchor=\"middle\" font-size=\"18px\" font-family=\"Arial\">X</text><circle cx=\"210.0\" cy=\"75.0\" r=\"10.0\" /><rect x=\"190.0\" y=\"105.0\" width=\"40\" height=\"40\" stroke=\"black\" fill=\"white\" stroke-width=\"1\" /><text x=\"210.0\" y=\"125.0\" dominant-baseline=\"middle\" text-anchor=\"middle\" font-size=\"18px\" font-family=\"Arial\">X</text><circle cx=\"270.0\" cy=\"125.0\" r=\"10.0\" /><rect x=\"250.0\" y=\"155.0\" width=\"40\" height=\"40\" stroke=\"black\" fill=\"white\" stroke-width=\"1\" /><text x=\"270.0\" y=\"175.0\" dominant-baseline=\"middle\" text-anchor=\"middle\" font-size=\"18px\" font-family=\"Arial\">X</text><circle cx=\"341.97474609375\" cy=\"175.0\" r=\"10.0\" /><rect x=\"310.0\" y=\"205.0\" width=\"63.9494921875\" height=\"40\" stroke=\"black\" fill=\"white\" stroke-width=\"1\" /><text x=\"341.97474609375\" y=\"225.0\" dominant-baseline=\"middle\" text-anchor=\"middle\" font-size=\"18px\" font-family=\"Arial\">X</text><rect x=\"310.0\" y=\"105.0\" width=\"63.9494921875\" height=\"40\" stroke=\"black\" fill=\"white\" stroke-width=\"1\" /><text x=\"341.97474609375\" y=\"125.0\" dominant-baseline=\"middle\" text-anchor=\"middle\" font-size=\"14px\" font-family=\"Arial\">Rx(0.5π)</text><text x=\"413.9494921875\" y=\"28.0\" dominant-baseline=\"middle\" text-anchor=\"middle\" font-size=\"40px\" font-family=\"Arial\">×</text><text x=\"413.9494921875\" y=\"228.0\" dominant-baseline=\"middle\" text-anchor=\"middle\" font-size=\"40px\" font-family=\"Arial\">×</text></svg>"
      ],
      "text/plain": [
       "<cirq.contrib.svg.svg.SVGCircuit at 0x22a75c59fd0>"
      ]
     },
     "execution_count": 17,
     "metadata": {},
     "output_type": "execute_result"
    }
   ],
   "source": [
    "#qubits = cirq.GridQubit.rect(1,5)\n",
    "circuit = cirq.Circuit()\n",
    "\n",
    "circuit.append((cirq.H(i)) for i in cirq.LineQubit.range(5))\n",
    "for i in cirq.LineQubit.range(4):\n",
    "    circuit.append(cirq.CNOT(control=i , target = i+1))\n",
    "circuit.append(cirq.SWAP(cirq.LineQubit(0),cirq.LineQubit(4))) \n",
    "circuit.append(cirq.rx(np.pi/2).on(cirq.LineQubit(np.random.randint(5))))\n",
    "SVGCircuit(circuit)"
   ]
  },
  {
   "cell_type": "markdown",
   "id": "76fdaeab",
   "metadata": {},
   "source": [
    "## Part 2"
   ]
  },
  {
   "cell_type": "code",
   "execution_count": 37,
   "id": "a471783c",
   "metadata": {},
   "outputs": [
    {
     "data": {
      "image/svg+xml": [
       "<svg xmlns=\"http://www.w3.org/2000/svg\" width=\"663.271875\" height=\"50.0\"><line x1=\"30.0\" x2=\"633.271875\" y1=\"25.0\" y2=\"25.0\" stroke=\"#1967d2\" stroke-width=\"1\" /><rect x=\"10.0\" y=\"5.0\" width=\"40\" height=\"40\" stroke=\"black\" fill=\"white\" stroke-width=\"0\" /><text x=\"30.0\" y=\"25.0\" dominant-baseline=\"middle\" text-anchor=\"middle\" font-size=\"14px\" font-family=\"Arial\">0: </text><rect x=\"70.0\" y=\"5.0\" width=\"79.5217578125\" height=\"40\" stroke=\"black\" fill=\"white\" stroke-width=\"1\" /><text x=\"109.76087890625\" y=\"25.0\" dominant-baseline=\"middle\" text-anchor=\"middle\" font-size=\"14px\" font-family=\"Arial\">Rx(0.008π)</text><rect x=\"169.52175781249997\" y=\"5.0\" width=\"71.735625\" height=\"40\" stroke=\"black\" fill=\"white\" stroke-width=\"1\" /><text x=\"205.38957031249998\" y=\"25.0\" dominant-baseline=\"middle\" text-anchor=\"middle\" font-size=\"14px\" font-family=\"Arial\">Rx(0.01π)</text><rect x=\"261.2573828125\" y=\"5.0\" width=\"71.735625\" height=\"40\" stroke=\"black\" fill=\"white\" stroke-width=\"1\" /><text x=\"297.1251953125\" y=\"25.0\" dominant-baseline=\"middle\" text-anchor=\"middle\" font-size=\"14px\" font-family=\"Arial\">Rx(0.01π)</text><rect x=\"352.99300781249997\" y=\"5.0\" width=\"71.735625\" height=\"40\" stroke=\"black\" fill=\"white\" stroke-width=\"1\" /><text x=\"388.8608203125\" y=\"25.0\" dominant-baseline=\"middle\" text-anchor=\"middle\" font-size=\"14px\" font-family=\"Arial\">Rx(0.01π)</text><rect x=\"444.7286328125\" y=\"5.0\" width=\"79.5217578125\" height=\"40\" stroke=\"black\" fill=\"white\" stroke-width=\"1\" /><text x=\"484.48951171875\" y=\"25.0\" dominant-baseline=\"middle\" text-anchor=\"middle\" font-size=\"14px\" font-family=\"Arial\">Rx(0.009π)</text><rect x=\"544.250390625\" y=\"5.0\" width=\"69.021484375\" height=\"40\" stroke=\"black\" fill=\"white\" stroke-width=\"1\" /><text x=\"578.7611328125\" y=\"25.0\" dominant-baseline=\"middle\" text-anchor=\"middle\" font-size=\"14px\" font-family=\"Arial\">M('result')</text></svg>"
      ],
      "text/plain": [
       "<cirq.contrib.svg.svg.SVGCircuit at 0x22a76c61730>"
      ]
     },
     "execution_count": 37,
     "metadata": {},
     "output_type": "execute_result"
    }
   ],
   "source": [
    "circuit = cirq.Circuit()\n",
    "qubit=cirq.LineQubit(0)\n",
    "angle = np.random.random(5)/20\n",
    "for i in range(5):\n",
    "    circuit.append(cirq.rx(angle[i]).on(qubit))\n",
    "circuit.append(cirq.measure(qubit,key='result'))\n",
    "SVGCircuit(circuit)                  \n"
   ]
  },
  {
   "cell_type": "code",
   "execution_count": 52,
   "id": "8560a2c1",
   "metadata": {},
   "outputs": [
    {
     "name": "stdout",
     "output_type": "stream",
     "text": [
      "The probability of measuring a qubit in |0> state :  0.9931640625\n",
      "Counter({0: 1017, 1: 7})\n"
     ]
    },
    {
     "data": {
      "text/plain": [
       "(array([1017.,    0.,    0.,    0.,    0.,    0.,    0.,    0.,    0.,\n",
       "           7.]),\n",
       " array([0. , 0.1, 0.2, 0.3, 0.4, 0.5, 0.6, 0.7, 0.8, 0.9, 1. ]),\n",
       " <BarContainer object of 10 artists>)"
      ]
     },
     "execution_count": 52,
     "metadata": {},
     "output_type": "execute_result"
    },
    {
     "data": {
      "image/png": "[encoded data removed]",
      "text/plain": [
       "<Figure size 432x288 with 1 Axes>"
      ]
     },
     "metadata": {
      "needs_background": "light"
     },
     "output_type": "display_data"
    }
   ],
   "source": [
    "simulator = cirq.Simulator()\n",
    "samples = simulator.run(circuit, repetitions=1024)\n",
    "hist_data = samples.measurements['result'].reshape(1024,)\n",
    "print('The probability of measuring a qubit in |0> state : ', samples.histogram(key='result')[0]/1024)\n",
    "print(samples.histogram(key='result'))\n",
    "plt.hist(hist_data)"
   ]
  },
  {
   "cell_type": "code",
   "execution_count": null,
   "id": "6a0d6204",
   "metadata": {},
   "outputs": [],
   "source": []
  }
 ],
 "metadata": {
  "kernelspec": {
   "display_name": "Python 3",
   "language": "python",
   "name": "python3"
  },
  "language_info": {
   "codemirror_mode": {
    "name": "ipython",
    "version": 3
   },
   "file_extension": ".py",
   "mimetype": "text/x-python",
   "name": "python",
   "nbconvert_exporter": "python",
   "pygments_lexer": "ipython3",
   "version": "3.8.8"
  }
 },
 "nbformat": 4,
 "nbformat_minor": 5
}
