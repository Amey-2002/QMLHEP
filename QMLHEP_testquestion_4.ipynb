{
 "cells": [
  {
   "cell_type": "code",
   "execution_count": 1,
   "id": "21b627bb",
   "metadata": {
    "collapsed": true
   },
   "outputs": [
    {
     "name": "stdout",
     "output_type": "stream",
     "text": [
      "Collecting tensorflow\n",
      "  Using cached tensorflow-2.8.0-cp38-cp38-win_amd64.whl (438.0 MB)\n",
      "Note: you may need to restart the kernel to use updated packages.Collecting astunparse>=1.6.0\n",
      "  Downloading astunparse-1.6.3-py2.py3-none-any.whl (12 kB)\n",
      "Collecting opt-einsum>=2.3.2\n",
      "  Downloading opt_einsum-3.3.0-py3-none-any.whl (65 kB)\n",
      "Collecting tensorboard<2.9,>=2.8\n",
      "  Downloading tensorboard-2.8.0-py3-none-any.whl (5.8 MB)\n",
      "Collecting absl-py>=0.4.0\n",
      "\n",
      "  Downloading absl_py-1.0.0-py3-none-any.whl (126 kB)\n",
      "Collecting tf-estimator-nightly==2.8.0.dev2021122109\n",
      "  Downloading tf_estimator_nightly-2.8.0.dev2021122109-py2.py3-none-any.whl (462 kB)\n",
      "Collecting protobuf>=3.9.2\n",
      "  Downloading protobuf-3.19.4-cp38-cp38-win_amd64.whl (895 kB)\n",
      "Requirement already satisfied: h5py>=2.9.0 in c:\\users\\ameyb\\anaconda3\\lib\\site-packages (from tensorflow) (2.10.0)\n",
      "Requirement already satisfied: setuptools in c:\\users\\ameyb\\anaconda3\\lib\\site-packages (from tensorflow) (52.0.0.post20210125)\n",
      "Collecting keras-preprocessing>=1.1.1\n",
      "  Downloading Keras_Preprocessing-1.1.2-py2.py3-none-any.whl (42 kB)\n",
      "Collecting grpcio<2.0,>=1.24.3\n",
      "  Downloading grpcio-1.44.0-cp38-cp38-win_amd64.whl (3.4 MB)\n",
      "Requirement already satisfied: wrapt>=1.11.0 in c:\\users\\ameyb\\anaconda3\\lib\\site-packages (from tensorflow) (1.12.1)\n",
      "Collecting termcolor>=1.1.0\n",
      "  Downloading termcolor-1.1.0.tar.gz (3.9 kB)\n",
      "Collecting libclang>=9.0.1\n",
      "  Downloading libclang-13.0.0-py2.py3-none-win_amd64.whl (13.9 MB)\n",
      "Collecting keras<2.9,>=2.8.0rc0\n",
      "  Downloading keras-2.8.0-py2.py3-none-any.whl (1.4 MB)\n",
      "Requirement already satisfied: typing-extensions>=3.6.6 in c:\\users\\ameyb\\anaconda3\\lib\\site-packages (from tensorflow) (3.7.4.3)\n",
      "Requirement already satisfied: six>=1.12.0 in c:\\users\\ameyb\\anaconda3\\lib\\site-packages (from tensorflow) (1.15.0)\n",
      "Collecting gast>=0.2.1\n",
      "  Downloading gast-0.5.3-py3-none-any.whl (19 kB)\n",
      "Requirement already satisfied: numpy>=1.20 in c:\\users\\ameyb\\anaconda3\\lib\\site-packages (from tensorflow) (1.20.1)\n",
      "Collecting flatbuffers>=1.12\n",
      "  Downloading flatbuffers-2.0-py2.py3-none-any.whl (26 kB)\n",
      "Collecting tensorflow-io-gcs-filesystem>=0.23.1\n",
      "  Downloading tensorflow_io_gcs_filesystem-0.24.0-cp38-cp38-win_amd64.whl (1.5 MB)\n",
      "Collecting google-pasta>=0.1.1\n",
      "  Downloading google_pasta-0.2.0-py3-none-any.whl (57 kB)\n",
      "Requirement already satisfied: wheel<1.0,>=0.23.0 in c:\\users\\ameyb\\anaconda3\\lib\\site-packages (from astunparse>=1.6.0->tensorflow) (0.36.2)\n",
      "Collecting markdown>=2.6.8\n",
      "  Downloading Markdown-3.3.6-py3-none-any.whl (97 kB)\n",
      "Requirement already satisfied: requests<3,>=2.21.0 in c:\\users\\ameyb\\anaconda3\\lib\\site-packages (from tensorboard<2.9,>=2.8->tensorflow) (2.25.1)\n",
      "Collecting google-auth-oauthlib<0.5,>=0.4.1\n",
      "  Downloading google_auth_oauthlib-0.4.6-py2.py3-none-any.whl (18 kB)\n",
      "Collecting google-auth<3,>=1.6.3\n",
      "  Downloading google_auth-2.6.2-py2.py3-none-any.whl (156 kB)\n",
      "Collecting tensorboard-data-server<0.7.0,>=0.6.0\n",
      "  Downloading tensorboard_data_server-0.6.1-py3-none-any.whl (2.4 kB)\n",
      "Requirement already satisfied: werkzeug>=0.11.15 in c:\\users\\ameyb\\anaconda3\\lib\\site-packages (from tensorboard<2.9,>=2.8->tensorflow) (1.0.1)\n",
      "Collecting tensorboard-plugin-wit>=1.6.0\n",
      "  Downloading tensorboard_plugin_wit-1.8.1-py3-none-any.whl (781 kB)\n",
      "Collecting pyasn1-modules>=0.2.1\n",
      "  Downloading pyasn1_modules-0.2.8-py2.py3-none-any.whl (155 kB)\n",
      "Collecting cachetools<6.0,>=2.0.0\n",
      "  Using cached cachetools-5.0.0-py3-none-any.whl (9.1 kB)\n",
      "Collecting rsa<5,>=3.1.4\n",
      "  Downloading rsa-4.8-py3-none-any.whl (39 kB)\n",
      "Collecting requests-oauthlib>=0.7.0\n",
      "  Downloading requests_oauthlib-1.3.1-py2.py3-none-any.whl (23 kB)\n",
      "Collecting importlib-metadata>=4.4\n",
      "  Downloading importlib_metadata-4.11.3-py3-none-any.whl (18 kB)\n",
      "Requirement already satisfied: zipp>=0.5 in c:\\users\\ameyb\\anaconda3\\lib\\site-packages (from importlib-metadata>=4.4->markdown>=2.6.8->tensorboard<2.9,>=2.8->tensorflow) (3.4.1)\n",
      "Collecting pyasn1<0.5.0,>=0.4.6\n",
      "  Downloading pyasn1-0.4.8-py2.py3-none-any.whl (77 kB)\n",
      "Requirement already satisfied: urllib3<1.27,>=1.21.1 in c:\\users\\ameyb\\anaconda3\\lib\\site-packages (from requests<3,>=2.21.0->tensorboard<2.9,>=2.8->tensorflow) (1.26.4)\n",
      "Requirement already satisfied: idna<3,>=2.5 in c:\\users\\ameyb\\anaconda3\\lib\\site-packages (from requests<3,>=2.21.0->tensorboard<2.9,>=2.8->tensorflow) (2.10)\n",
      "Requirement already satisfied: chardet<5,>=3.0.2 in c:\\users\\ameyb\\anaconda3\\lib\\site-packages (from requests<3,>=2.21.0->tensorboard<2.9,>=2.8->tensorflow) (4.0.0)\n",
      "Requirement already satisfied: certifi>=2017.4.17 in c:\\users\\ameyb\\anaconda3\\lib\\site-packages (from requests<3,>=2.21.0->tensorboard<2.9,>=2.8->tensorflow) (2020.12.5)\n",
      "Collecting oauthlib>=3.0.0\n",
      "  Downloading oauthlib-3.2.0-py3-none-any.whl (151 kB)\n",
      "Building wheels for collected packages: termcolor\n",
      "  Building wheel for termcolor (setup.py): started\n",
      "  Building wheel for termcolor (setup.py): finished with status 'done'\n",
      "  Created wheel for termcolor: filename=termcolor-1.1.0-py3-none-any.whl size=4829 sha256=e5769018c053dca72c17766e3c7e0e15731b79484ea2339f29018cf699d9bec7\n",
      "  Stored in directory: c:\\users\\ameyb\\appdata\\local\\pip\\cache\\wheels\\a0\\16\\9c\\5473df82468f958445479c59e784896fa24f4a5fc024b0f501\n",
      "Successfully built termcolor\n",
      "Installing collected packages: pyasn1, rsa, pyasn1-modules, oauthlib, cachetools, requests-oauthlib, importlib-metadata, google-auth, tensorboard-plugin-wit, tensorboard-data-server, protobuf, markdown, grpcio, google-auth-oauthlib, absl-py, tf-estimator-nightly, termcolor, tensorflow-io-gcs-filesystem, tensorboard, opt-einsum, libclang, keras-preprocessing, keras, google-pasta, gast, flatbuffers, astunparse, tensorflow\n",
      "  Attempting uninstall: importlib-metadata\n",
      "    Found existing installation: importlib-metadata 3.10.0\n",
      "    Uninstalling importlib-metadata-3.10.0:\n",
      "      Successfully uninstalled importlib-metadata-3.10.0\n",
      "Successfully installed absl-py-1.0.0 astunparse-1.6.3 cachetools-5.0.0 flatbuffers-2.0 gast-0.5.3 google-auth-2.6.2 google-auth-oauthlib-0.4.6 google-pasta-0.2.0 grpcio-1.44.0 importlib-metadata-4.11.3 keras-2.8.0 keras-preprocessing-1.1.2 libclang-13.0.0 markdown-3.3.6 oauthlib-3.2.0 opt-einsum-3.3.0 protobuf-3.19.4 pyasn1-0.4.8 pyasn1-modules-0.2.8 requests-oauthlib-1.3.1 rsa-4.8 tensorboard-2.8.0 tensorboard-data-server-0.6.1 tensorboard-plugin-wit-1.8.1 tensorflow-2.8.0 tensorflow-io-gcs-filesystem-0.24.0 termcolor-1.1.0 tf-estimator-nightly-2.8.0.dev2021122109\n"
     ]
    }
   ],
   "source": [
    "pip install tensorflow"
   ]
  },
  {
   "cell_type": "code",
   "execution_count": 1,
   "id": "684b5ec3",
   "metadata": {},
   "outputs": [],
   "source": [
    "import numpy as np\n",
    "import pandas as pd\n",
    "import tensorflow as tf\n",
    "\n",
    "%matplotlib inline\n",
    "import matplotlib.pyplot as plt\n",
    "import logging\n",
    "\n",
    "logging.basicConfig(level=logging.INFO, format= '[%(asctime)s] %(levelname)s: %(message)s')"
   ]
  },
  {
   "attachments": {
    "Screenshot%20%28150%29.png": {
     "image/png": "[encoded data removed]"
    }
   },
   "cell_type": "markdown",
   "id": "e1e83750",
   "metadata": {},
   "source": [
    "# Task IV - Classical Graph Neural Network (GNN) Part\n",
    "\n",
    "## Problem Statement\n",
    "For Task IV, you will use ParticleNet’s data for Quark/Gluon jet classification available here with its corresponding description.\n",
    "\n",
    "● Choose 2 Graph-based architectures of your choice to classify jets as being quarks or gluons. Provide a description on what considerations you have taken to project this point-cloud dataset to a set of interconnected nodes and edges.\n",
    "\n",
    "● Discuss the resulting performance of the 2 chosen architectures.\n",
    "\n",
    "## Dataset\n",
    "\n",
    "The dataset used in this project was actually used in <i> P. T. Komiske, E. M. Metodiev, J. Thaler, Energy Flow Networks: Deep Sets for Particle Jets, JHEP 01 (2019) 121, arXiv:1810.05165.</i><br>\n",
    "It has 20 files consisting of jet data with each file having 100k samples.There are two arrays in each file\n",
    "<ul><li>    \n",
    "X: (100000,M,4), exactly 50k quark and 50k gluon jets, randomly sorted, where M is the max multiplicity of the jets in that file (other jets have been padded with zero-particles), and the features of each particle are its pt, rapidity, azimuthal angle, and pdgid.\n",
    "</li>\n",
    "<li>     \n",
    "y: (100000,), an array of labels for the jets where gluon is 0 and quark is 1.\n",
    "</li>\n",
    "</ul>\n",
    "\n",
    "#### <i>However due to hardware limitations, we use only the first file of the complete dataset i.e. 100k total samples of data in this project.</i>\n",
    "\n",
    "## Architecture & Approach\n",
    "\n",
    "A jet is one of the most ubiquitous objects in proton-proton collision events at the LHC. In essence, a jet is\n",
    "a collimated spray of particles. In this task, the jet data is represented as a particle cloud analogous to the point cloud representation of 3D shapes used in computer vision. The permutation symmetry of the particle cloud makes it a natural and promising representation of jets.\n",
    "\n",
    "\n",
    "<br>\n",
    "I studied the following Graph-based architectures:<br>\n",
    "\n",
    "### <i>1. ABCNet</i>\n",
    "\n",
    "### <i>2. ParticleNet  </i>                     \n",
    "\n",
    "### <i>3. ParticleNet Lite </i>\n",
    "\n",
    "### <i>4. Message Passing Neural Networks </i>\n",
    "\n",
    "### Important Points\n",
    "<ul>\n",
    "    <li>ABCNet[3] is an attention based features update approach which also consists of a GAPLayer(Graph attention pooling layer)\n",
    "    that transforms the feature vectors to a higher dimensional space and passes to the attention layer with attention coefficients.This is helpful for quark gluon tagging because the attention mechanism considers the local features required for better classification performance</li>\n",
    "    <li>ParticleNet and PartcileNet Lite have fundamentally similar architectures that use the power of EdgeConv to parameterize over local dependencies in the point-cloud representation and give better results that most other approaches.</li>\n",
    "    <li>Message Passing Neural Nets[4] uses Adjacency learning which is particularly important in applications where the input set may have some underlying geometric structure and hence can serve the purpose for quark gluon classification</li>\n",
    "</ul><br>\n",
    "<br>\n",
    "After studying all of the above architectures briefly, it is evident that if the necessary computing resources are available, then ABCNet performs best with over 230k features(considerably less than ParticeNet ~360k features) because it uses an extra power of attention mechanisms.Message Passing Nets are a good option but they consider the structure to be permutation equivariant which affects classification performance. ParticleNet is a better option because it handles large unordered data efficiently considering permutation invariance between datapoints and techniques like EdgeConv(a permutationally symmetric operation on point\n",
    "clouds) <br>\n",
    "\n",
    "However, all the above architectures require heavy computing resources due to the high number of features they use for training.\n",
    "\n",
    "### Project Approach\n",
    "<i> ParticleNet</i>, a CNN-like deep neural network architecture is used for jet tagging with particle cloud data.<br>\n",
    "This project will follow mainly the reference [2] but with some changes to explore things that is not yet explored in the paper.<br><br>\n",
    "However,regular CNNs are suitable for data with some uniform grid like ordering of images, while the particle cloud is an unordered, permutation invariant representation. <i>EdgeConv</i>, another convolution-like operation that exploits the local  neighbourhood information based on the k-nearest neighbouring particles for a particular particle is a good fit for point cloud data.\n",
    "![Screenshot%20%28150%29.png](attachment:Screenshot%20%28150%29.png)\n",
    "\n",
    "where the feature vectors of the neighbors, xij , are substituted by their differences from the central point xi and h¯Θ can be implemented as a multilayer perceptron(MLP) whose parameters are shared among all edges.\n",
    "<br>\n",
    "An important thing to note is that ParticleNet uses DGCNN(Dynamic Graph Convolutional Neural Network), the word 'dynamic' here denotes that the EdgeConv operation maps a point cloud datapoint from original feature space to another latent space and updates the co-ordinates according to latent space which are then used in calculating the k-nearest neighbour distances[1].In other words, the proximity of points can be dynamically learned with EdgeConv operations. Due to this, the graph describing the point clouds are dynamically updated to reflect the changes in the edges, i.e., the neighbors of each point.\n",
    "### Single EdgeConv block\n",
    "<img src=\"./edgeconv.png\"><br>\n",
    " \n",
    "### This project implements two architectures :\n",
    "<!--  \n",
    "ParticleNet consists of three EdgeConv blocks. The first EdgeConv block uses the spatial coordinates of the particles in the pseudorapidity-azimuth space to compute the distances, while the subsequent blocks use the learned feature vectors as coordinates. -->\n",
    "\n",
    "\n",
    "## <i>1. ParticleNet Lite (Dynamic)</i>\n",
    "<img src=\"./ParticleNet_Lite.png\"><br>\n",
    "ParticleNet Lite consists of three EdgeConv blocks with hyperparameter-values less than that are used in ParticleNet.The first EdgeConv block uses the spatial coordinates of the particles in the pseudorapidity-azimuth space to compute the distances, while the subsequent blocks use the learned feature vectors as coordinates.\n",
    "<br>\n",
    "## <i>2. ParticleNet Lite (Static)</i>\n",
    "This architecture is exactly the same as the dynamic ParticleNet Lite except the fact that there is no dynamic update of the co-ordinates of particles based on the learned feature vectors, i.e the co-ordinates are always in the pseudorapidity-azimuth space to compute the distances between them.<br>\n",
    "\n",
    "Both networks use a global average pooling for aggregating over the values obtained from the EdgeConv blocks along with a fully connected network with 2 units and output layer with a softmax function.<br><br>\n",
    "#### Hyperparameters\n",
    "The hyperparameters used are kept the same as implemented in the reference[2]<br>\n",
    "<ul>\n",
    "<li>k in k- nearest neighbours' distance measure:<br>\n",
    "<!-- For ParticleNet, k=16<br> -->\n",
    "For both archectures, k=7<br></li>\n",
    "<li>\n",
    "Also, the channels per layer for both architectures:<br>\n",
    "<!-- For ParticleNet, for each EdgeConv block is (64, 64,64), (128, 128, 128), and (256, 256, 256), respectively.<br> -->\n",
    "    for each EdgeConv block is (32, 32, 32), (64, 64, 64), respectively.<br>\n",
    "</li>\n",
    "<li>The LR(learning rate) schedule is described later in the form of code.</li></ul>"
   ]
  },
  {
   "cell_type": "markdown",
   "id": "a9ae8537",
   "metadata": {},
   "source": [
    "## Loading and prepocessing the dataset"
   ]
  },
  {
   "cell_type": "code",
   "execution_count": 2,
   "id": "840e55f9",
   "metadata": {},
   "outputs": [],
   "source": [
    "def data_preprocess(data_1,data_2,label_1,label_2):\n",
    "    if(data_1.shape[1] != data_2.shape[1]):\n",
    "        if(data_1.shape[1]>data_2.shape[1]):\n",
    "            data_2=np.concatenate((data_2,np.zeros((data_2.shape[0],data_1.shape[1]-data_2.shape[1],data_2.shape[2]))),axis=1)\n",
    "        if(data_2.shape[1]>data_1.shape[1]):\n",
    "            data_1=np.concatenate((data_1,np.zeros((data_1.shape[0],data_2.shape[1]-data_1.shape[1],data_1.shape[2]))) ,axis=1)\n",
    "            \n",
    "    dataset_X = np.concatenate((data_1,data_2), axis=0)\n",
    "    dataset_y = np.concatenate((label_1,label_2), axis=0)\n",
    "    \n",
    "    return dataset_X,dataset_y\n",
    "\n",
    "\n",
    "data = np.load('./GSOC22_QMLHEP_task_dataset/QG_jets.npz',allow_pickle=True)\n",
    "X_train = data['X']\n",
    "y_train = data['y']\n",
    "# for i in range(1):\n",
    "#     data_temp = np.load('./GSOC22_QMLHEP_task_dataset/QG_jets_' + str(i+1) + '.npz', allow_pickle=True)\n",
    "#     print('file '+str(i+1)+' is loaded')\n",
    "#     X_temp=data_temp['X']\n",
    "#     y_temp=data_temp['y']\n",
    "#     X_train,y_train = data_preprocess(X_train,X_temp,y_train,y_temp)\n",
    "#Transform the labels to one-hot format\n",
    "y_train = tf.keras.utils.to_categorical(y_train)"
   ]
  },
  {
   "cell_type": "code",
   "execution_count": 3,
   "id": "dfef0db2",
   "metadata": {
    "scrolled": true
   },
   "outputs": [
    {
     "name": "stdout",
     "output_type": "stream",
     "text": [
      "(100000, 139, 4)\n",
      "(100000, 2)\n"
     ]
    }
   ],
   "source": [
    "#check\n",
    "print(X_train.shape)\n",
    "# X_train.shape[0] = Number of training examples\n",
    "# X_train.shape[1] = Maximum number of particles in a jet\n",
    "# X_train.shape[2] = Total number of features\n",
    "print(y_train.shape)"
   ]
  },
  {
   "cell_type": "code",
   "execution_count": 4,
   "id": "08b921ff",
   "metadata": {},
   "outputs": [
    {
     "name": "stdout",
     "output_type": "stream",
     "text": [
      "(80000, 139, 4)\n",
      "(10000, 139, 4)\n",
      "(10000, 139, 4)\n",
      "(80000, 2)\n"
     ]
    }
   ],
   "source": [
    "from sklearn.utils import shuffle\n",
    "from sklearn.model_selection import train_test_split\n",
    "# Splitting the dataset into three parts- 80% training data, 10% validation data, 10% test data\n",
    "X_train,y_train = shuffle(X_train, y_train, random_state=1024)\n",
    "X_train,X_val,y_train,y_val = train_test_split(X_train,y_train,test_size=0.2,random_state=1024)\n",
    "X_val,X_test,y_val,y_test= train_test_split(X_val,y_val,test_size=0.5,random_state=1024)\n",
    "\n",
    "num_particles = X_train.shape[1]\n",
    "#check\n",
    "print(X_train.shape)\n",
    "print(X_test.shape)\n",
    "print(X_val.shape)\n",
    "print(y_train.shape)"
   ]
  },
  {
   "cell_type": "code",
   "execution_count": 5,
   "id": "d361e5ce",
   "metadata": {},
   "outputs": [],
   "source": [
    "train_dict = {\n",
    "    #the co-ordinates of particles in (rapidity, azimuthal angle) space\n",
    "    'points' : X_train[:,:,1:3],\n",
    "    #the features of each particle are its pt, rapidity, azimuthal angle\n",
    "    'features' : X_train,\n",
    "    # a mask array, taking a value of 0 for padded positions (shape=num_samples,num_particles,1)\n",
    "    'mask': np.sum(X_train, axis=2).reshape(len(X_train), num_particles, 1)\n",
    "    }\n",
    "\n",
    "val_dict = {\n",
    "    #the co-ordinates of particles in (rapidity, azimuthal angle) space\n",
    "    'points' : X_val[:,:,1:3],\n",
    "    #the features of each particle are its pt, rapidity, azimuthal angle\n",
    "    'features' : X_val,\n",
    "    # a mask array, taking a value of 0 for padded positions (shape=num_samples,num_particles,1)\n",
    "    'mask': np.sum(X_val, axis=2).reshape(len(X_val), num_particles, 1)\n",
    "    }\n",
    "\n",
    "test_dict = {\n",
    "    #the co-ordinates of particles in (rapidity, azimuthal angle) space\n",
    "    'points' : X_test[:,:,1:3],\n",
    "    #the features of each particle are its pt, rapidity, azimuthal angle\n",
    "    'features' : X_test,\n",
    "    # a mask array, taking a value of 0 for padded positions (shape=num_samples,num_particles,1)\n",
    "    'mask': np.sum(X_test, axis=2).reshape(len(X_test), num_particles, 1)\n",
    "    }"
   ]
  },
  {
   "cell_type": "markdown",
   "id": "e91273e8",
   "metadata": {},
   "source": [
    "# Initializing the Models"
   ]
  },
  {
   "cell_type": "code",
   "execution_count": 7,
   "id": "ab21d7ca",
   "metadata": {},
   "outputs": [],
   "source": [
    "from tensorflow import keras\n",
    "from tf_keras_model import get_particle_net_lite\n",
    "from tf_keras_model_static import get_particle_net_lite_static"
   ]
  },
  {
   "cell_type": "code",
   "execution_count": 8,
   "id": "91bb68b5",
   "metadata": {},
   "outputs": [
    {
     "name": "stdout",
     "output_type": "stream",
     "text": [
      "{'points': (139, 2), 'features': (139, 4), 'mask': (139, 1)}\n"
     ]
    }
   ],
   "source": [
    "num_classes = 2\n",
    "input_shapes = {k:train_dict[k].shape[1:] for k in train_dict}\n",
    "print(input_shapes)"
   ]
  },
  {
   "cell_type": "code",
   "execution_count": 9,
   "id": "7fb80662",
   "metadata": {},
   "outputs": [],
   "source": [
    "model_lite_static = get_particle_net_lite_static(num_classes,input_shapes)\n",
    "model_lite = get_particle_net_lite(num_classes,input_shapes)"
   ]
  },
  {
   "cell_type": "markdown",
   "id": "cc8a3cdb",
   "metadata": {},
   "source": [
    "### Hyperparameters"
   ]
  },
  {
   "cell_type": "code",
   "execution_count": 10,
   "id": "1eebda99",
   "metadata": {},
   "outputs": [],
   "source": [
    "batch_size = 300\n",
    "batch_size_lite = 1200\n",
    "\n",
    "epochs = 20"
   ]
  },
  {
   "cell_type": "code",
   "execution_count": 11,
   "id": "28cc8555",
   "metadata": {},
   "outputs": [],
   "source": [
    "# learning rate schedule\n",
    "def lr_schedule(epochs):\n",
    "    learning_rate = 0.001\n",
    "    if epochs>9:\n",
    "        learning_rate*=0.1\n",
    "    if epochs>18:\n",
    "        learning_rate*=0.01\n",
    "    logging.info('Learning rate: %f'%learning_rate)\n",
    "    return learning_rate"
   ]
  },
  {
   "cell_type": "markdown",
   "id": "fb46f8e2",
   "metadata": {},
   "source": [
    "# I. ParticleNet Lite model (Dynamic)"
   ]
  },
  {
   "cell_type": "code",
   "execution_count": 25,
   "id": "e3861e75",
   "metadata": {
    "scrolled": false
   },
   "outputs": [
    {
     "name": "stderr",
     "output_type": "stream",
     "text": [
      "[2022-04-01 14:05:47,115] INFO: Learning rate: 0.001000\n"
     ]
    },
    {
     "name": "stdout",
     "output_type": "stream",
     "text": [
      "Model: \"ParticleNet\"\n",
      "__________________________________________________________________________________________________\n",
      " Layer (type)                   Output Shape         Param #     Connected to                     \n",
      "==================================================================================================\n",
      " mask (InputLayer)              [(None, 139, 1)]     0           []                               \n",
      "                                                                                                  \n",
      " tf.math.not_equal_1 (TFOpLambd  (None, 139, 1)      0           ['mask[0][0]']                   \n",
      " a)                                                                                               \n",
      "                                                                                                  \n",
      " tf.cast_2 (TFOpLambda)         (None, 139, 1)       0           ['tf.math.not_equal_1[0][0]']    \n",
      "                                                                                                  \n",
      " tf.math.equal_1 (TFOpLambda)   (None, 139, 1)       0           ['tf.cast_2[0][0]']              \n",
      "                                                                                                  \n",
      " tf.cast_3 (TFOpLambda)         (None, 139, 1)       0           ['tf.math.equal_1[0][0]']        \n",
      "                                                                                                  \n",
      " tf.math.multiply_5 (TFOpLambda  (None, 139, 1)      0           ['tf.cast_3[0][0]']              \n",
      " )                                                                                                \n",
      "                                                                                                  \n",
      " points (InputLayer)            [(None, 139, 2)]     0           []                               \n",
      "                                                                                                  \n",
      " tf.math.add_2 (TFOpLambda)     (None, 139, 2)       0           ['tf.math.multiply_5[0][0]',     \n",
      "                                                                  'points[0][0]']                 \n",
      "                                                                                                  \n",
      " features (InputLayer)          [(None, 139, 4)]     0           []                               \n",
      "                                                                                                  \n",
      " tf.compat.v1.transpose_2 (TFOp  (None, 2, 139)      0           ['tf.math.add_2[0][0]']          \n",
      " Lambda)                                                                                          \n",
      "                                                                                                  \n",
      " tf.expand_dims_7 (TFOpLambda)  (None, 139, 1, 4)    0           ['features[0][0]']               \n",
      "                                                                                                  \n",
      " tf.math.multiply_6 (TFOpLambda  (None, 139, 2)      0           ['tf.math.add_2[0][0]',          \n",
      " )                                                                'tf.math.add_2[0][0]']          \n",
      "                                                                                                  \n",
      " tf.linalg.matmul_1 (TFOpLambda  (None, 139, 139)    0           ['tf.math.add_2[0][0]',          \n",
      " )                                                                'tf.compat.v1.transpose_2[0][0]'\n",
      "                                                                 ]                                \n",
      "                                                                                                  \n",
      " tf.math.multiply_7 (TFOpLambda  (None, 139, 2)      0           ['tf.math.add_2[0][0]',          \n",
      " )                                                                'tf.math.add_2[0][0]']          \n",
      "                                                                                                  \n",
      " ParticleNet_fts_bn (BatchNorma  (None, 139, 1, 4)   16          ['tf.expand_dims_7[0][0]']       \n",
      " lization)                                                                                        \n",
      "                                                                                                  \n",
      " tf.math.reduce_sum_2 (TFOpLamb  (None, 139, 1)      0           ['tf.math.multiply_6[0][0]']     \n",
      " da)                                                                                              \n",
      "                                                                                                  \n",
      " tf.math.multiply_8 (TFOpLambda  (None, 139, 139)    0           ['tf.linalg.matmul_1[0][0]']     \n",
      " )                                                                                                \n",
      "                                                                                                  \n",
      " tf.math.reduce_sum_3 (TFOpLamb  (None, 139, 1)      0           ['tf.math.multiply_7[0][0]']     \n",
      " da)                                                                                              \n",
      "                                                                                                  \n",
      " tf.compat.v1.squeeze_3 (TFOpLa  (None, 139, 4)      0           ['ParticleNet_fts_bn[0][0]']     \n",
      " mbda)                                                                                            \n",
      "                                                                                                  \n",
      " tf.math.subtract_3 (TFOpLambda  (None, 139, 139)    0           ['tf.math.reduce_sum_2[0][0]',   \n",
      " )                                                                'tf.math.multiply_8[0][0]']     \n",
      "                                                                                                  \n",
      " tf.compat.v1.transpose_3 (TFOp  (None, 1, 139)      0           ['tf.math.reduce_sum_3[0][0]']   \n",
      " Lambda)                                                                                          \n",
      "                                                                                                  \n",
      " tf.compat.v1.shape_2 (TFOpLamb  (3,)                0           ['tf.compat.v1.squeeze_3[0][0]'] \n",
      " da)                                                                                              \n",
      "                                                                                                  \n",
      " tf.__operators__.add_3 (TFOpLa  (None, 139, 139)    0           ['tf.math.subtract_3[0][0]',     \n",
      " mbda)                                                            'tf.compat.v1.transpose_3[0][0]'\n",
      "                                                                 ]                                \n",
      "                                                                                                  \n",
      " tf.__operators__.getitem_4 (Sl  ()                  0           ['tf.compat.v1.shape_2[0][0]']   \n",
      " icingOpLambda)                                                                                   \n",
      "                                                                                                  \n",
      " tf.math.negative_1 (TFOpLambda  (None, 139, 139)    0           ['tf.__operators__.add_3[0][0]'] \n",
      " )                                                                                                \n",
      "                                                                                                  \n",
      " tf.range_2 (TFOpLambda)        (None,)              0           ['tf.__operators__.getitem_4[0][0\n",
      "                                                                 ]']                              \n",
      "                                                                                                  \n",
      " tf.math.top_k_1 (TFOpLambda)   TopKV2(values=(None  0           ['tf.math.negative_1[0][0]']     \n",
      "                                , 139, 8),                                                        \n",
      "                                 indices=(None, 139                                               \n",
      "                                , 8))                                                             \n",
      "                                                                                                  \n",
      " tf.reshape_2 (TFOpLambda)      (None, 1, 1, 1)      0           ['tf.range_2[0][0]']             \n",
      "                                                                                                  \n"
     ]
    },
    {
     "name": "stdout",
     "output_type": "stream",
     "text": [
      " tf.__operators__.getitem_3 (Sl  (None, 139, 7)      0           ['tf.math.top_k_1[0][1]']        \n",
      " icingOpLambda)                                                                                   \n",
      "                                                                                                  \n",
      " tf.tile_4 (TFOpLambda)         (None, 139, 7, 1)    0           ['tf.reshape_2[0][0]']           \n",
      "                                                                                                  \n",
      " tf.expand_dims_8 (TFOpLambda)  (None, 139, 7, 1)    0           ['tf.__operators__.getitem_3[0][0\n",
      "                                                                 ]']                              \n",
      "                                                                                                  \n",
      " tf.expand_dims_9 (TFOpLambda)  (None, 139, 1, 4)    0           ['tf.compat.v1.squeeze_3[0][0]'] \n",
      "                                                                                                  \n",
      " tf.concat_4 (TFOpLambda)       (None, 139, 7, 2)    0           ['tf.tile_4[0][0]',              \n",
      "                                                                  'tf.expand_dims_8[0][0]']       \n",
      "                                                                                                  \n",
      " tf.tile_5 (TFOpLambda)         (None, 139, 7, 4)    0           ['tf.expand_dims_9[0][0]']       \n",
      "                                                                                                  \n",
      " tf.compat.v1.gather_nd_2 (TFOp  (None, 139, 7, 4)   0           ['tf.compat.v1.squeeze_3[0][0]', \n",
      " Lambda)                                                          'tf.concat_4[0][0]']            \n",
      "                                                                                                  \n",
      " tf.math.subtract_4 (TFOpLambda  (None, 139, 7, 4)   0           ['tf.compat.v1.gather_nd_2[0][0]'\n",
      " )                                                               , 'tf.tile_5[0][0]']             \n",
      "                                                                                                  \n",
      " tf.concat_5 (TFOpLambda)       (None, 139, 7, 8)    0           ['tf.tile_5[0][0]',              \n",
      "                                                                  'tf.math.subtract_4[0][0]']     \n",
      "                                                                                                  \n",
      " ParticleNet_EdgeConv0_conv0 (C  (None, 139, 7, 32)  256         ['tf.concat_5[0][0]']            \n",
      " onv2D)                                                                                           \n",
      "                                                                                                  \n",
      " ParticleNet_EdgeConv0_bn0 (Bat  (None, 139, 7, 32)  128         ['ParticleNet_EdgeConv0_conv0[0][\n",
      " chNormalization)                                                0]']                             \n",
      "                                                                                                  \n",
      " ParticleNet_EdgeConv0_act0 (Ac  (None, 139, 7, 32)  0           ['ParticleNet_EdgeConv0_bn0[0][0]\n",
      " tivation)                                                       ']                               \n",
      "                                                                                                  \n",
      " ParticleNet_EdgeConv0_conv1 (C  (None, 139, 7, 32)  1024        ['ParticleNet_EdgeConv0_act0[0][0\n",
      " onv2D)                                                          ]']                              \n",
      "                                                                                                  \n",
      " ParticleNet_EdgeConv0_bn1 (Bat  (None, 139, 7, 32)  128         ['ParticleNet_EdgeConv0_conv1[0][\n",
      " chNormalization)                                                0]']                             \n",
      "                                                                                                  \n",
      " ParticleNet_EdgeConv0_act1 (Ac  (None, 139, 7, 32)  0           ['ParticleNet_EdgeConv0_bn1[0][0]\n",
      " tivation)                                                       ']                               \n",
      "                                                                                                  \n",
      " tf.expand_dims_10 (TFOpLambda)  (None, 139, 1, 4)   0           ['tf.compat.v1.squeeze_3[0][0]'] \n",
      "                                                                                                  \n",
      " ParticleNet_EdgeConv0_conv2 (C  (None, 139, 7, 32)  1024        ['ParticleNet_EdgeConv0_act1[0][0\n",
      " onv2D)                                                          ]']                              \n",
      "                                                                                                  \n",
      " ParticleNet_EdgeConv0_sc_conv   (None, 139, 1, 32)  128         ['tf.expand_dims_10[0][0]']      \n",
      " (Conv2D)                                                                                         \n",
      "                                                                                                  \n",
      " ParticleNet_EdgeConv0_bn2 (Bat  (None, 139, 7, 32)  128         ['ParticleNet_EdgeConv0_conv2[0][\n",
      " chNormalization)                                                0]']                             \n",
      "                                                                                                  \n",
      " ParticleNet_EdgeConv0_sc_bn (B  (None, 139, 1, 32)  128         ['ParticleNet_EdgeConv0_sc_conv[0\n",
      " atchNormalization)                                              ][0]']                           \n",
      "                                                                                                  \n",
      " ParticleNet_EdgeConv0_act2 (Ac  (None, 139, 7, 32)  0           ['ParticleNet_EdgeConv0_bn2[0][0]\n",
      " tivation)                                                       ']                               \n",
      "                                                                                                  \n",
      " tf.compat.v1.squeeze_4 (TFOpLa  (None, 139, 32)     0           ['ParticleNet_EdgeConv0_sc_bn[0][\n",
      " mbda)                                                           0]']                             \n",
      "                                                                                                  \n",
      " tf.math.reduce_mean_3 (TFOpLam  (None, 139, 32)     0           ['ParticleNet_EdgeConv0_act2[0][0\n",
      " bda)                                                            ]']                              \n",
      "                                                                                                  \n",
      " tf.__operators__.add_4 (TFOpLa  (None, 139, 32)     0           ['tf.compat.v1.squeeze_4[0][0]', \n",
      " mbda)                                                            'tf.math.reduce_mean_3[0][0]']  \n",
      "                                                                                                  \n",
      " ParticleNet_EdgeConv0_sc_act (  (None, 139, 32)     0           ['tf.__operators__.add_4[0][0]'] \n",
      " Activation)                                                                                      \n",
      "                                                                                                  \n",
      " tf.math.add_3 (TFOpLambda)     (None, 139, 32)      0           ['tf.math.multiply_5[0][0]',     \n",
      "                                                                  'ParticleNet_EdgeConv0_sc_act[0]\n",
      "                                                                 [0]']                            \n",
      "                                                                                                  \n",
      " tf.compat.v1.transpose_4 (TFOp  (None, 32, 139)     0           ['tf.math.add_3[0][0]']          \n",
      " Lambda)                                                                                          \n",
      "                                                                                                  \n",
      " tf.math.multiply_9 (TFOpLambda  (None, 139, 32)     0           ['tf.math.add_3[0][0]',          \n",
      " )                                                                'tf.math.add_3[0][0]']          \n",
      "                                                                                                  \n",
      " tf.linalg.matmul_2 (TFOpLambda  (None, 139, 139)    0           ['tf.math.add_3[0][0]',          \n",
      " )                                                                'tf.compat.v1.transpose_4[0][0]'\n"
     ]
    },
    {
     "name": "stdout",
     "output_type": "stream",
     "text": [
      "                                                                 ]                                \n",
      "                                                                                                  \n",
      " tf.math.multiply_10 (TFOpLambd  (None, 139, 32)     0           ['tf.math.add_3[0][0]',          \n",
      " a)                                                               'tf.math.add_3[0][0]']          \n",
      "                                                                                                  \n",
      " tf.math.reduce_sum_4 (TFOpLamb  (None, 139, 1)      0           ['tf.math.multiply_9[0][0]']     \n",
      " da)                                                                                              \n",
      "                                                                                                  \n",
      " tf.math.multiply_11 (TFOpLambd  (None, 139, 139)    0           ['tf.linalg.matmul_2[0][0]']     \n",
      " a)                                                                                               \n",
      "                                                                                                  \n",
      " tf.math.reduce_sum_5 (TFOpLamb  (None, 139, 1)      0           ['tf.math.multiply_10[0][0]']    \n",
      " da)                                                                                              \n",
      "                                                                                                  \n",
      " tf.math.subtract_5 (TFOpLambda  (None, 139, 139)    0           ['tf.math.reduce_sum_4[0][0]',   \n",
      " )                                                                'tf.math.multiply_11[0][0]']    \n",
      "                                                                                                  \n",
      " tf.compat.v1.transpose_5 (TFOp  (None, 1, 139)      0           ['tf.math.reduce_sum_5[0][0]']   \n",
      " Lambda)                                                                                          \n",
      "                                                                                                  \n",
      " tf.compat.v1.shape_3 (TFOpLamb  (3,)                0           ['ParticleNet_EdgeConv0_sc_act[0]\n",
      " da)                                                             [0]']                            \n",
      "                                                                                                  \n",
      " tf.__operators__.add_5 (TFOpLa  (None, 139, 139)    0           ['tf.math.subtract_5[0][0]',     \n",
      " mbda)                                                            'tf.compat.v1.transpose_5[0][0]'\n",
      "                                                                 ]                                \n",
      "                                                                                                  \n",
      " tf.__operators__.getitem_6 (Sl  ()                  0           ['tf.compat.v1.shape_3[0][0]']   \n",
      " icingOpLambda)                                                                                   \n",
      "                                                                                                  \n",
      " tf.math.negative_2 (TFOpLambda  (None, 139, 139)    0           ['tf.__operators__.add_5[0][0]'] \n",
      " )                                                                                                \n",
      "                                                                                                  \n",
      " tf.range_3 (TFOpLambda)        (None,)              0           ['tf.__operators__.getitem_6[0][0\n",
      "                                                                 ]']                              \n",
      "                                                                                                  \n",
      " tf.math.top_k_2 (TFOpLambda)   TopKV2(values=(None  0           ['tf.math.negative_2[0][0]']     \n",
      "                                , 139, 8),                                                        \n",
      "                                 indices=(None, 139                                               \n",
      "                                , 8))                                                             \n",
      "                                                                                                  \n",
      " tf.reshape_3 (TFOpLambda)      (None, 1, 1, 1)      0           ['tf.range_3[0][0]']             \n",
      "                                                                                                  \n",
      " tf.__operators__.getitem_5 (Sl  (None, 139, 7)      0           ['tf.math.top_k_2[0][1]']        \n",
      " icingOpLambda)                                                                                   \n",
      "                                                                                                  \n",
      " tf.tile_6 (TFOpLambda)         (None, 139, 7, 1)    0           ['tf.reshape_3[0][0]']           \n",
      "                                                                                                  \n",
      " tf.expand_dims_11 (TFOpLambda)  (None, 139, 7, 1)   0           ['tf.__operators__.getitem_5[0][0\n",
      "                                                                 ]']                              \n",
      "                                                                                                  \n",
      " tf.expand_dims_12 (TFOpLambda)  (None, 139, 1, 32)  0           ['ParticleNet_EdgeConv0_sc_act[0]\n",
      "                                                                 [0]']                            \n",
      "                                                                                                  \n",
      " tf.concat_6 (TFOpLambda)       (None, 139, 7, 2)    0           ['tf.tile_6[0][0]',              \n",
      "                                                                  'tf.expand_dims_11[0][0]']      \n",
      "                                                                                                  \n",
      " tf.tile_7 (TFOpLambda)         (None, 139, 7, 32)   0           ['tf.expand_dims_12[0][0]']      \n",
      "                                                                                                  \n",
      " tf.compat.v1.gather_nd_3 (TFOp  (None, 139, 7, 32)  0           ['ParticleNet_EdgeConv0_sc_act[0]\n",
      " Lambda)                                                         [0]',                            \n",
      "                                                                  'tf.concat_6[0][0]']            \n",
      "                                                                                                  \n",
      " tf.math.subtract_6 (TFOpLambda  (None, 139, 7, 32)  0           ['tf.compat.v1.gather_nd_3[0][0]'\n",
      " )                                                               , 'tf.tile_7[0][0]']             \n",
      "                                                                                                  \n",
      " tf.concat_7 (TFOpLambda)       (None, 139, 7, 64)   0           ['tf.tile_7[0][0]',              \n",
      "                                                                  'tf.math.subtract_6[0][0]']     \n",
      "                                                                                                  \n",
      " ParticleNet_EdgeConv1_conv0 (C  (None, 139, 7, 64)  4096        ['tf.concat_7[0][0]']            \n",
      " onv2D)                                                                                           \n",
      "                                                                                                  \n",
      " ParticleNet_EdgeConv1_bn0 (Bat  (None, 139, 7, 64)  256         ['ParticleNet_EdgeConv1_conv0[0][\n",
      " chNormalization)                                                0]']                             \n",
      "                                                                                                  \n",
      " ParticleNet_EdgeConv1_act0 (Ac  (None, 139, 7, 64)  0           ['ParticleNet_EdgeConv1_bn0[0][0]\n",
      " tivation)                                                       ']                               \n",
      "                                                                                                  \n",
      " ParticleNet_EdgeConv1_conv1 (C  (None, 139, 7, 64)  4096        ['ParticleNet_EdgeConv1_act0[0][0\n",
      " onv2D)                                                          ]']                              \n",
      "                                                                                                  \n",
      " ParticleNet_EdgeConv1_bn1 (Bat  (None, 139, 7, 64)  256         ['ParticleNet_EdgeConv1_conv1[0][\n",
      " chNormalization)                                                0]']                             \n"
     ]
    },
    {
     "name": "stdout",
     "output_type": "stream",
     "text": [
      "                                                                                                  \n",
      " ParticleNet_EdgeConv1_act1 (Ac  (None, 139, 7, 64)  0           ['ParticleNet_EdgeConv1_bn1[0][0]\n",
      " tivation)                                                       ']                               \n",
      "                                                                                                  \n",
      " tf.expand_dims_13 (TFOpLambda)  (None, 139, 1, 32)  0           ['ParticleNet_EdgeConv0_sc_act[0]\n",
      "                                                                 [0]']                            \n",
      "                                                                                                  \n",
      " ParticleNet_EdgeConv1_conv2 (C  (None, 139, 7, 64)  4096        ['ParticleNet_EdgeConv1_act1[0][0\n",
      " onv2D)                                                          ]']                              \n",
      "                                                                                                  \n",
      " ParticleNet_EdgeConv1_sc_conv   (None, 139, 1, 64)  2048        ['tf.expand_dims_13[0][0]']      \n",
      " (Conv2D)                                                                                         \n",
      "                                                                                                  \n",
      " ParticleNet_EdgeConv1_bn2 (Bat  (None, 139, 7, 64)  256         ['ParticleNet_EdgeConv1_conv2[0][\n",
      " chNormalization)                                                0]']                             \n",
      "                                                                                                  \n",
      " ParticleNet_EdgeConv1_sc_bn (B  (None, 139, 1, 64)  256         ['ParticleNet_EdgeConv1_sc_conv[0\n",
      " atchNormalization)                                              ][0]']                           \n",
      "                                                                                                  \n",
      " ParticleNet_EdgeConv1_act2 (Ac  (None, 139, 7, 64)  0           ['ParticleNet_EdgeConv1_bn2[0][0]\n",
      " tivation)                                                       ']                               \n",
      "                                                                                                  \n",
      " tf.compat.v1.squeeze_5 (TFOpLa  (None, 139, 64)     0           ['ParticleNet_EdgeConv1_sc_bn[0][\n",
      " mbda)                                                           0]']                             \n",
      "                                                                                                  \n",
      " tf.math.reduce_mean_4 (TFOpLam  (None, 139, 64)     0           ['ParticleNet_EdgeConv1_act2[0][0\n",
      " bda)                                                            ]']                              \n",
      "                                                                                                  \n",
      " tf.__operators__.add_6 (TFOpLa  (None, 139, 64)     0           ['tf.compat.v1.squeeze_5[0][0]', \n",
      " mbda)                                                            'tf.math.reduce_mean_4[0][0]']  \n",
      "                                                                                                  \n",
      " ParticleNet_EdgeConv1_sc_act (  (None, 139, 64)     0           ['tf.__operators__.add_6[0][0]'] \n",
      " Activation)                                                                                      \n",
      "                                                                                                  \n",
      " tf.math.multiply_12 (TFOpLambd  (None, 139, 64)     0           ['ParticleNet_EdgeConv1_sc_act[0]\n",
      " a)                                                              [0]',                            \n",
      "                                                                  'tf.cast_2[0][0]']              \n",
      "                                                                                                  \n",
      " tf.math.reduce_mean_5 (TFOpLam  (None, 64)          0           ['tf.math.multiply_12[0][0]']    \n",
      " bda)                                                                                             \n",
      "                                                                                                  \n",
      " dense_2 (Dense)                (None, 128)          8320        ['tf.math.reduce_mean_5[0][0]']  \n",
      "                                                                                                  \n",
      " dropout_1 (Dropout)            (None, 128)          0           ['dense_2[0][0]']                \n",
      "                                                                                                  \n",
      " dense_3 (Dense)                (None, 2)            258         ['dropout_1[0][0]']              \n",
      "                                                                                                  \n",
      "==================================================================================================\n",
      "Total params: 26,898\n",
      "Trainable params: 26,122\n",
      "Non-trainable params: 776\n",
      "__________________________________________________________________________________________________\n"
     ]
    }
   ],
   "source": [
    "model_lite.compile(loss = 'categorical_crossentropy',\n",
    "             optimizer=keras.optimizers.Adam(learning_rate=lr_schedule(0)),\n",
    "             metrics=['accuracy',tf.keras.metrics.AUC()])\n",
    "model_lite.summary()"
   ]
  },
  {
   "cell_type": "code",
   "execution_count": 26,
   "id": "d1ececc7",
   "metadata": {},
   "outputs": [
    {
     "name": "stdout",
     "output_type": "stream",
     "text": [
      "(80000, 139, 2)\n",
      "(80000, 139, 4)\n",
      "(80000, 139, 1)\n"
     ]
    }
   ],
   "source": [
    "lr_scheduler=keras.callbacks.LearningRateScheduler(lr_schedule)\n",
    "progress_bar = keras.callbacks.ProgbarLogger()\n",
    "callbacks=[lr_scheduler,progress_bar]\n",
    "print(train_dict['points'].shape)\n",
    "print(train_dict['features'].shape)\n",
    "print(train_dict['mask'].shape)"
   ]
  },
  {
   "cell_type": "markdown",
   "id": "02672cf6",
   "metadata": {},
   "source": [
    "## Training the model"
   ]
  },
  {
   "cell_type": "code",
   "execution_count": 27,
   "id": "2cc327bd",
   "metadata": {
    "scrolled": false
   },
   "outputs": [
    {
     "name": "stderr",
     "output_type": "stream",
     "text": [
      "[2022-04-01 14:05:59,468] INFO: Learning rate: 0.001000\n"
     ]
    },
    {
     "name": "stdout",
     "output_type": "stream",
     "text": [
      "Epoch 1/20\n",
      "267/267 [==============================] - 349s 1s/sample - loss: 0.5004 - accuracy: 0.7605 - auc_2: 0.8368 - val_loss: 0.5141 - val_accuracy: 0.7450 - val_auc_2: 0.8238 - lr: 0.0010\n"
     ]
    },
    {
     "name": "stderr",
     "output_type": "stream",
     "text": [
      "[2022-04-01 14:11:48,796] INFO: Learning rate: 0.001000\n"
     ]
    },
    {
     "name": "stdout",
     "output_type": "stream",
     "text": [
      "Epoch 2/20\n",
      "267/267 [==============================] - 409s 2s/sample - loss: 0.4690 - accuracy: 0.7853 - auc_2: 0.8594 - val_loss: 0.4595 - val_accuracy: 0.7928 - val_auc_2: 0.8658 - lr: 0.0010\n"
     ]
    },
    {
     "name": "stderr",
     "output_type": "stream",
     "text": [
      "[2022-04-01 14:18:37,697] INFO: Learning rate: 0.001000\n"
     ]
    },
    {
     "name": "stdout",
     "output_type": "stream",
     "text": [
      "Epoch 3/20\n",
      "267/267 [==============================] - 502s 2s/sample - loss: 0.4560 - accuracy: 0.7944 - auc_2: 0.8678 - val_loss: 0.4465 - val_accuracy: 0.8006 - val_auc_2: 0.8743 - lr: 0.0010\n"
     ]
    },
    {
     "name": "stderr",
     "output_type": "stream",
     "text": [
      "[2022-04-01 14:26:59,344] INFO: Learning rate: 0.001000\n"
     ]
    },
    {
     "name": "stdout",
     "output_type": "stream",
     "text": [
      "Epoch 4/20\n",
      "267/267 [==============================] - 412s 2s/sample - loss: 0.4510 - accuracy: 0.7972 - auc_2: 0.8709 - val_loss: 0.4693 - val_accuracy: 0.7891 - val_auc_2: 0.8599 - lr: 0.0010\n"
     ]
    },
    {
     "name": "stderr",
     "output_type": "stream",
     "text": [
      "[2022-04-01 14:33:51,681] INFO: Learning rate: 0.001000\n"
     ]
    },
    {
     "name": "stdout",
     "output_type": "stream",
     "text": [
      "Epoch 5/20\n",
      "267/267 [==============================] - 413s 2s/sample - loss: 0.4451 - accuracy: 0.8009 - auc_2: 0.8747 - val_loss: 0.4533 - val_accuracy: 0.7976 - val_auc_2: 0.8705 - lr: 0.0010\n"
     ]
    },
    {
     "name": "stderr",
     "output_type": "stream",
     "text": [
      "[2022-04-01 14:40:44,323] INFO: Learning rate: 0.001000\n"
     ]
    },
    {
     "name": "stdout",
     "output_type": "stream",
     "text": [
      "Epoch 6/20\n",
      "267/267 [==============================] - 368s 1s/sample - loss: 0.4399 - accuracy: 0.8029 - auc_2: 0.8779 - val_loss: 0.4498 - val_accuracy: 0.7977 - val_auc_2: 0.8742 - lr: 0.0010\n"
     ]
    },
    {
     "name": "stderr",
     "output_type": "stream",
     "text": [
      "[2022-04-01 14:46:51,990] INFO: Learning rate: 0.001000\n"
     ]
    },
    {
     "name": "stdout",
     "output_type": "stream",
     "text": [
      "Epoch 7/20\n",
      "267/267 [==============================] - 301s 1s/sample - loss: 0.4368 - accuracy: 0.8047 - auc_2: 0.8798 - val_loss: 0.4385 - val_accuracy: 0.8051 - val_auc_2: 0.8791 - lr: 0.0010\n"
     ]
    },
    {
     "name": "stderr",
     "output_type": "stream",
     "text": [
      "[2022-04-01 14:51:52,885] INFO: Learning rate: 0.001000\n"
     ]
    },
    {
     "name": "stdout",
     "output_type": "stream",
     "text": [
      "Epoch 8/20\n",
      "267/267 [==============================] - 307s 1s/sample - loss: 0.4338 - accuracy: 0.8072 - auc_2: 0.8816 - val_loss: 0.4372 - val_accuracy: 0.8028 - val_auc_2: 0.8801 - lr: 0.0010\n"
     ]
    },
    {
     "name": "stderr",
     "output_type": "stream",
     "text": [
      "[2022-04-01 14:56:59,824] INFO: Learning rate: 0.001000\n"
     ]
    },
    {
     "name": "stdout",
     "output_type": "stream",
     "text": [
      "Epoch 9/20\n",
      "267/267 [==============================] - 315s 1s/sample - loss: 0.4306 - accuracy: 0.8083 - auc_2: 0.8835 - val_loss: 0.4344 - val_accuracy: 0.8050 - val_auc_2: 0.8816 - lr: 0.0010\n"
     ]
    },
    {
     "name": "stderr",
     "output_type": "stream",
     "text": [
      "[2022-04-01 15:02:14,858] INFO: Learning rate: 0.001000\n"
     ]
    },
    {
     "name": "stdout",
     "output_type": "stream",
     "text": [
      "Epoch 10/20\n",
      "267/267 [==============================] - 358s 1s/sample - loss: 0.4295 - accuracy: 0.8089 - auc_2: 0.8842 - val_loss: 0.4326 - val_accuracy: 0.8068 - val_auc_2: 0.8826 - lr: 0.0010\n"
     ]
    },
    {
     "name": "stderr",
     "output_type": "stream",
     "text": [
      "[2022-04-01 15:08:12,446] INFO: Learning rate: 0.000100\n"
     ]
    },
    {
     "name": "stdout",
     "output_type": "stream",
     "text": [
      "Epoch 11/20\n",
      "267/267 [==============================] - 412s 2s/sample - loss: 0.4221 - accuracy: 0.8131 - auc_2: 0.8884 - val_loss: 0.4309 - val_accuracy: 0.8067 - val_auc_2: 0.8839 - lr: 1.0000e-04\n"
     ]
    },
    {
     "name": "stderr",
     "output_type": "stream",
     "text": [
      "[2022-04-01 15:15:04,488] INFO: Learning rate: 0.000100\n"
     ]
    },
    {
     "name": "stdout",
     "output_type": "stream",
     "text": [
      "Epoch 12/20\n",
      "267/267 [==============================] - 513s 2s/sample - loss: 0.4207 - accuracy: 0.8135 - auc_2: 0.8892 - val_loss: 0.4279 - val_accuracy: 0.8083 - val_auc_2: 0.8853 - lr: 1.0000e-04\n"
     ]
    },
    {
     "name": "stderr",
     "output_type": "stream",
     "text": [
      "[2022-04-01 15:23:37,725] INFO: Learning rate: 0.000100\n"
     ]
    },
    {
     "name": "stdout",
     "output_type": "stream",
     "text": [
      "Epoch 13/20\n",
      "267/267 [==============================] - 415s 2s/sample - loss: 0.4203 - accuracy: 0.8136 - auc_2: 0.8895 - val_loss: 0.4280 - val_accuracy: 0.8073 - val_auc_2: 0.8853 - lr: 1.0000e-04\n"
     ]
    },
    {
     "name": "stderr",
     "output_type": "stream",
     "text": [
      "[2022-04-01 15:30:32,520] INFO: Learning rate: 0.000100\n"
     ]
    },
    {
     "name": "stdout",
     "output_type": "stream",
     "text": [
      "Epoch 14/20\n",
      "267/267 [==============================] - 415s 2s/sample - loss: 0.4200 - accuracy: 0.8143 - auc_2: 0.8896 - val_loss: 0.4270 - val_accuracy: 0.8084 - val_auc_2: 0.8858 - lr: 1.0000e-04\n"
     ]
    },
    {
     "name": "stderr",
     "output_type": "stream",
     "text": [
      "[2022-04-01 15:37:27,851] INFO: Learning rate: 0.000100\n"
     ]
    },
    {
     "name": "stdout",
     "output_type": "stream",
     "text": [
      "Epoch 15/20\n",
      "267/267 [==============================] - 414s 2s/sample - loss: 0.4195 - accuracy: 0.8142 - auc_2: 0.8899 - val_loss: 0.4285 - val_accuracy: 0.8080 - val_auc_2: 0.8852 - lr: 1.0000e-04\n"
     ]
    },
    {
     "name": "stderr",
     "output_type": "stream",
     "text": [
      "[2022-04-01 15:44:21,403] INFO: Learning rate: 0.000100\n"
     ]
    },
    {
     "name": "stdout",
     "output_type": "stream",
     "text": [
      "Epoch 16/20\n",
      "267/267 [==============================] - 418s 2s/sample - loss: 0.4189 - accuracy: 0.8146 - auc_2: 0.8902 - val_loss: 0.4270 - val_accuracy: 0.8084 - val_auc_2: 0.8857 - lr: 1.0000e-04\n"
     ]
    },
    {
     "name": "stderr",
     "output_type": "stream",
     "text": [
      "[2022-04-01 15:51:19,309] INFO: Learning rate: 0.000100\n"
     ]
    },
    {
     "name": "stdout",
     "output_type": "stream",
     "text": [
      "Epoch 17/20\n",
      "267/267 [==============================] - 338s 1s/sample - loss: 0.4184 - accuracy: 0.8145 - auc_2: 0.8905 - val_loss: 0.4273 - val_accuracy: 0.8084 - val_auc_2: 0.8857 - lr: 1.0000e-04\n"
     ]
    },
    {
     "name": "stderr",
     "output_type": "stream",
     "text": [
      "[2022-04-01 15:56:57,270] INFO: Learning rate: 0.000100\n"
     ]
    },
    {
     "name": "stdout",
     "output_type": "stream",
     "text": [
      "Epoch 18/20\n",
      "267/267 [==============================] - 324s 1s/sample - loss: 0.4177 - accuracy: 0.8152 - auc_2: 0.8909 - val_loss: 0.4265 - val_accuracy: 0.8080 - val_auc_2: 0.8861 - lr: 1.0000e-04\n"
     ]
    },
    {
     "name": "stderr",
     "output_type": "stream",
     "text": [
      "[2022-04-01 16:02:21,348] INFO: Learning rate: 0.000100\n"
     ]
    },
    {
     "name": "stdout",
     "output_type": "stream",
     "text": [
      "Epoch 19/20\n",
      "267/267 [==============================] - 330s 1s/sample - loss: 0.4177 - accuracy: 0.8146 - auc_2: 0.8909 - val_loss: 0.4274 - val_accuracy: 0.8082 - val_auc_2: 0.8857 - lr: 1.0000e-04\n"
     ]
    },
    {
     "name": "stderr",
     "output_type": "stream",
     "text": [
      "[2022-04-01 16:07:51,078] INFO: Learning rate: 0.000001\n"
     ]
    },
    {
     "name": "stdout",
     "output_type": "stream",
     "text": [
      "Epoch 20/20\n",
      "267/267 [==============================] - 418s 2s/sample - loss: 0.4175 - accuracy: 0.8153 - auc_2: 0.8910 - val_loss: 0.4264 - val_accuracy: 0.8095 - val_auc_2: 0.8862 - lr: 1.0000e-06\n"
     ]
    }
   ],
   "source": [
    "history_dynamic = model_lite.fit(train_dict,\n",
    "                   y_train, \n",
    "                   epochs=epochs,\n",
    "                   batch_size=batch_size,\n",
    "                   callbacks=callbacks,\n",
    "                   validation_data=(val_dict,y_val),\n",
    "                   shuffle=True)"
   ]
  },
  {
   "cell_type": "code",
   "execution_count": null,
   "id": "b139ac5d",
   "metadata": {},
   "outputs": [],
   "source": [
    "#  import csv\n",
    "\n",
    "# w = csv.writer(open(\"./train_history_dgcnn.csv\", \"w\"))\n",
    "# for key, val in history_dynamic.history.items():\n",
    "#     w.writerow([key, val])"
   ]
  },
  {
   "cell_type": "markdown",
   "id": "dc1c73c2",
   "metadata": {},
   "source": [
    "## AUC"
   ]
  },
  {
   "cell_type": "code",
   "execution_count": 38,
   "id": "2565f625",
   "metadata": {},
   "outputs": [
    {
     "data": {
      "image/png": "[encoded data removed]",
      "text/plain": [
       "<Figure size 432x288 with 1 Axes>"
      ]
     },
     "metadata": {
      "needs_background": "light"
     },
     "output_type": "display_data"
    }
   ],
   "source": [
    "plt.plot(np.linspace(1,epochs,epochs, dtype=int), history_dynamic.history['auc_2'], color='green', label='Training AUC')\n",
    "plt.plot(np.linspace(1,epochs,epochs, dtype=int), history_dynamic.history['val_auc_2'], color='red', label='Validation AUC')\n",
    "plt.xlabel(\"Epochs\")\n",
    "plt.ylabel(\"AUC\")\n",
    "plt.title(\"AUC of Static Graph CNN Model\")\n",
    "plt.legend()\n",
    "plt.show()"
   ]
  },
  {
   "cell_type": "markdown",
   "id": "609ffa01",
   "metadata": {},
   "source": [
    "## Accuracy"
   ]
  },
  {
   "cell_type": "code",
   "execution_count": 37,
   "id": "dc21e04b",
   "metadata": {},
   "outputs": [
    {
     "data": {
      "image/png": "[encoded data removed]",
      "text/plain": [
       "<Figure size 432x288 with 1 Axes>"
      ]
     },
     "metadata": {
      "needs_background": "light"
     },
     "output_type": "display_data"
    }
   ],
   "source": [
    "plt.plot(np.linspace(1,epochs,epochs, dtype=int), history_dynamic.history['accuracy'], color='green', label='Training AUC')\n",
    "plt.plot(np.linspace(1,epochs,epochs, dtype=int), history_dynamic.history['val_accuracy'], color='red', label='Validation AUC')\n",
    "plt.xlabel(\"Epochs\")\n",
    "plt.ylabel(\"Accuracy\")\n",
    "plt.title(\"Accuracy of Static Graph CNN Model\")\n",
    "plt.legend()\n",
    "plt.show()"
   ]
  },
  {
   "cell_type": "markdown",
   "id": "4e3c4b7a",
   "metadata": {},
   "source": [
    "## Loss"
   ]
  },
  {
   "cell_type": "code",
   "execution_count": 36,
   "id": "c5577555",
   "metadata": {},
   "outputs": [
    {
     "data": {
      "image/png": "[encoded data removed]",
      "text/plain": [
       "<Figure size 432x288 with 1 Axes>"
      ]
     },
     "metadata": {
      "needs_background": "light"
     },
     "output_type": "display_data"
    }
   ],
   "source": [
    "plt.plot(np.linspace(1,epochs,epochs, dtype=int), history_dynamic.history['loss'], color='green', label='Training AUC')\n",
    "plt.plot(np.linspace(1,epochs,epochs, dtype=int), history_dynamic.history['val_loss'], color='red', label='Validation AUC')\n",
    "plt.xlabel(\"Epochs\")\n",
    "plt.ylabel(\"Loss\")\n",
    "plt.title(\"Loss of Static Graph CNN Model\")\n",
    "plt.legend()\n",
    "plt.show()"
   ]
  },
  {
   "cell_type": "markdown",
   "id": "e22792c0",
   "metadata": {},
   "source": [
    "## Evaluation "
   ]
  },
  {
   "cell_type": "code",
   "execution_count": 35,
   "id": "32a0b91f",
   "metadata": {},
   "outputs": [
    {
     "name": "stdout",
     "output_type": "stream",
     "text": [
      "313/313 [==============================] - 16s 51ms/step - loss: 0.4262 - accuracy: 0.8119 - auc_2: 0.8859\n",
      "Evaluation Metric of Dynamic Graph CNN Model on Test Dataset\n",
      "Loss: 0.42618003487586975\n",
      "Accuracy: 0.8119000196456909\n",
      "AUC: 0.8858910799026489\n"
     ]
    }
   ],
   "source": [
    "loss, acc, auc = model_lite.evaluate(test_dict, y_test)\n",
    "print(\"Evaluation Metric of Dynamic Graph CNN Model on Test Dataset\")\n",
    "print(\"Loss:\", loss)\n",
    "print(\"Accuracy:\", acc)\n",
    "print(\"AUC:\", auc)\n"
   ]
  },
  {
   "cell_type": "markdown",
   "id": "9876834b",
   "metadata": {},
   "source": [
    "## II. ParticleNet Lite model (static)"
   ]
  },
  {
   "cell_type": "code",
   "execution_count": 12,
   "id": "5b176dce",
   "metadata": {
    "scrolled": false
   },
   "outputs": [
    {
     "name": "stderr",
     "output_type": "stream",
     "text": [
      "[2022-04-01 11:44:38,143] INFO: Learning rate: 0.001000\n"
     ]
    },
    {
     "name": "stdout",
     "output_type": "stream",
     "text": [
      "Model: \"ParticleNet_Lite_Static\"\n",
      "__________________________________________________________________________________________________\n",
      " Layer (type)                   Output Shape         Param #     Connected to                     \n",
      "==================================================================================================\n",
      " mask (InputLayer)              [(None, 139, 1)]     0           []                               \n",
      "                                                                                                  \n",
      " tf.math.not_equal (TFOpLambda)  (None, 139, 1)      0           ['mask[0][0]']                   \n",
      "                                                                                                  \n",
      " tf.cast (TFOpLambda)           (None, 139, 1)       0           ['tf.math.not_equal[0][0]']      \n",
      "                                                                                                  \n",
      " tf.math.equal (TFOpLambda)     (None, 139, 1)       0           ['tf.cast[0][0]']                \n",
      "                                                                                                  \n",
      " tf.cast_1 (TFOpLambda)         (None, 139, 1)       0           ['tf.math.equal[0][0]']          \n",
      "                                                                                                  \n",
      " tf.math.multiply (TFOpLambda)  (None, 139, 1)       0           ['tf.cast_1[0][0]']              \n",
      "                                                                                                  \n",
      " points (InputLayer)            [(None, 139, 2)]     0           []                               \n",
      "                                                                                                  \n",
      " tf.math.add (TFOpLambda)       (None, 139, 2)       0           ['tf.math.multiply[0][0]',       \n",
      "                                                                  'points[0][0]']                 \n",
      "                                                                                                  \n",
      " features (InputLayer)          [(None, 139, 4)]     0           []                               \n",
      "                                                                                                  \n",
      " tf.compat.v1.transpose (TFOpLa  (None, 2, 139)      0           ['tf.math.add[0][0]']            \n",
      " mbda)                                                                                            \n",
      "                                                                                                  \n",
      " tf.expand_dims (TFOpLambda)    (None, 139, 1, 4)    0           ['features[0][0]']               \n",
      "                                                                                                  \n",
      " tf.math.multiply_1 (TFOpLambda  (None, 139, 2)      0           ['tf.math.add[0][0]',            \n",
      " )                                                                'tf.math.add[0][0]']            \n",
      "                                                                                                  \n",
      " tf.linalg.matmul (TFOpLambda)  (None, 139, 139)     0           ['tf.math.add[0][0]',            \n",
      "                                                                  'tf.compat.v1.transpose[0][0]'] \n",
      "                                                                                                  \n",
      " tf.math.multiply_2 (TFOpLambda  (None, 139, 2)      0           ['tf.math.add[0][0]',            \n",
      " )                                                                'tf.math.add[0][0]']            \n",
      "                                                                                                  \n",
      " ParticleNet_fts_bn (BatchNorma  (None, 139, 1, 4)   16          ['tf.expand_dims[0][0]']         \n",
      " lization)                                                                                        \n",
      "                                                                                                  \n",
      " tf.math.reduce_sum (TFOpLambda  (None, 139, 1)      0           ['tf.math.multiply_1[0][0]']     \n",
      " )                                                                                                \n",
      "                                                                                                  \n",
      " tf.math.multiply_3 (TFOpLambda  (None, 139, 139)    0           ['tf.linalg.matmul[0][0]']       \n",
      " )                                                                                                \n",
      "                                                                                                  \n",
      " tf.math.reduce_sum_1 (TFOpLamb  (None, 139, 1)      0           ['tf.math.multiply_2[0][0]']     \n",
      " da)                                                                                              \n",
      "                                                                                                  \n",
      " tf.compat.v1.squeeze (TFOpLamb  (None, 139, 4)      0           ['ParticleNet_fts_bn[0][0]']     \n",
      " da)                                                                                              \n",
      "                                                                                                  \n",
      " tf.math.subtract (TFOpLambda)  (None, 139, 139)     0           ['tf.math.reduce_sum[0][0]',     \n",
      "                                                                  'tf.math.multiply_3[0][0]']     \n",
      "                                                                                                  \n",
      " tf.compat.v1.transpose_1 (TFOp  (None, 1, 139)      0           ['tf.math.reduce_sum_1[0][0]']   \n",
      " Lambda)                                                                                          \n",
      "                                                                                                  \n",
      " tf.compat.v1.shape (TFOpLambda  (3,)                0           ['tf.compat.v1.squeeze[0][0]']   \n",
      " )                                                                                                \n",
      "                                                                                                  \n",
      " tf.__operators__.add (TFOpLamb  (None, 139, 139)    0           ['tf.math.subtract[0][0]',       \n",
      " da)                                                              'tf.compat.v1.transpose_1[0][0]'\n",
      "                                                                 ]                                \n",
      "                                                                                                  \n",
      " tf.__operators__.getitem_1 (Sl  ()                  0           ['tf.compat.v1.shape[0][0]']     \n",
      " icingOpLambda)                                                                                   \n",
      "                                                                                                  \n",
      " tf.math.negative (TFOpLambda)  (None, 139, 139)     0           ['tf.__operators__.add[0][0]']   \n",
      "                                                                                                  \n",
      " tf.range (TFOpLambda)          (None,)              0           ['tf.__operators__.getitem_1[0][0\n",
      "                                                                 ]']                              \n",
      "                                                                                                  \n",
      " tf.math.top_k (TFOpLambda)     TopKV2(values=(None  0           ['tf.math.negative[0][0]']       \n",
      "                                , 139, 8),                                                        \n",
      "                                 indices=(None, 139                                               \n",
      "                                , 8))                                                             \n",
      "                                                                                                  \n",
      " tf.reshape (TFOpLambda)        (None, 1, 1, 1)      0           ['tf.range[0][0]']               \n",
      "                                                                                                  \n",
      " tf.__operators__.getitem (Slic  (None, 139, 7)      0           ['tf.math.top_k[0][1]']          \n",
      " ingOpLambda)                                                                                     \n",
      "                                                                                                  \n",
      " tf.tile (TFOpLambda)           (None, 139, 7, 1)    0           ['tf.reshape[0][0]']             \n"
     ]
    },
    {
     "name": "stdout",
     "output_type": "stream",
     "text": [
      "                                                                                                  \n",
      " tf.expand_dims_1 (TFOpLambda)  (None, 139, 7, 1)    0           ['tf.__operators__.getitem[0][0]'\n",
      "                                                                 ]                                \n",
      "                                                                                                  \n",
      " tf.expand_dims_2 (TFOpLambda)  (None, 139, 1, 4)    0           ['tf.compat.v1.squeeze[0][0]']   \n",
      "                                                                                                  \n",
      " tf.concat (TFOpLambda)         (None, 139, 7, 2)    0           ['tf.tile[0][0]',                \n",
      "                                                                  'tf.expand_dims_1[0][0]']       \n",
      "                                                                                                  \n",
      " tf.tile_1 (TFOpLambda)         (None, 139, 7, 4)    0           ['tf.expand_dims_2[0][0]']       \n",
      "                                                                                                  \n",
      " tf.compat.v1.gather_nd (TFOpLa  (None, 139, 7, 4)   0           ['tf.compat.v1.squeeze[0][0]',   \n",
      " mbda)                                                            'tf.concat[0][0]']              \n",
      "                                                                                                  \n",
      " tf.math.subtract_1 (TFOpLambda  (None, 139, 7, 4)   0           ['tf.compat.v1.gather_nd[0][0]', \n",
      " )                                                                'tf.tile_1[0][0]']              \n",
      "                                                                                                  \n",
      " tf.concat_1 (TFOpLambda)       (None, 139, 7, 8)    0           ['tf.tile_1[0][0]',              \n",
      "                                                                  'tf.math.subtract_1[0][0]']     \n",
      "                                                                                                  \n",
      " ParticleNet_EdgeConv0_conv0 (C  (None, 139, 7, 32)  256         ['tf.concat_1[0][0]']            \n",
      " onv2D)                                                                                           \n",
      "                                                                                                  \n",
      " ParticleNet_EdgeConv0_bn0 (Bat  (None, 139, 7, 32)  128         ['ParticleNet_EdgeConv0_conv0[0][\n",
      " chNormalization)                                                0]']                             \n",
      "                                                                                                  \n",
      " ParticleNet_EdgeConv0_act0 (Ac  (None, 139, 7, 32)  0           ['ParticleNet_EdgeConv0_bn0[0][0]\n",
      " tivation)                                                       ']                               \n",
      "                                                                                                  \n",
      " ParticleNet_EdgeConv0_conv1 (C  (None, 139, 7, 32)  1024        ['ParticleNet_EdgeConv0_act0[0][0\n",
      " onv2D)                                                          ]']                              \n",
      "                                                                                                  \n",
      " ParticleNet_EdgeConv0_bn1 (Bat  (None, 139, 7, 32)  128         ['ParticleNet_EdgeConv0_conv1[0][\n",
      " chNormalization)                                                0]']                             \n",
      "                                                                                                  \n",
      " ParticleNet_EdgeConv0_act1 (Ac  (None, 139, 7, 32)  0           ['ParticleNet_EdgeConv0_bn1[0][0]\n",
      " tivation)                                                       ']                               \n",
      "                                                                                                  \n",
      " tf.expand_dims_3 (TFOpLambda)  (None, 139, 1, 4)    0           ['tf.compat.v1.squeeze[0][0]']   \n",
      "                                                                                                  \n",
      " ParticleNet_EdgeConv0_conv2 (C  (None, 139, 7, 32)  1024        ['ParticleNet_EdgeConv0_act1[0][0\n",
      " onv2D)                                                          ]']                              \n",
      "                                                                                                  \n",
      " ParticleNet_EdgeConv0_sc_conv   (None, 139, 1, 32)  128         ['tf.expand_dims_3[0][0]']       \n",
      " (Conv2D)                                                                                         \n",
      "                                                                                                  \n",
      " ParticleNet_EdgeConv0_bn2 (Bat  (None, 139, 7, 32)  128         ['ParticleNet_EdgeConv0_conv2[0][\n",
      " chNormalization)                                                0]']                             \n",
      "                                                                                                  \n",
      " ParticleNet_EdgeConv0_sc_bn (B  (None, 139, 1, 32)  128         ['ParticleNet_EdgeConv0_sc_conv[0\n",
      " atchNormalization)                                              ][0]']                           \n",
      "                                                                                                  \n",
      " ParticleNet_EdgeConv0_act2 (Ac  (None, 139, 7, 32)  0           ['ParticleNet_EdgeConv0_bn2[0][0]\n",
      " tivation)                                                       ']                               \n",
      "                                                                                                  \n",
      " tf.compat.v1.squeeze_1 (TFOpLa  (None, 139, 32)     0           ['ParticleNet_EdgeConv0_sc_bn[0][\n",
      " mbda)                                                           0]']                             \n",
      "                                                                                                  \n",
      " tf.math.reduce_mean (TFOpLambd  (None, 139, 32)     0           ['ParticleNet_EdgeConv0_act2[0][0\n",
      " a)                                                              ]']                              \n",
      "                                                                                                  \n",
      " tf.__operators__.add_1 (TFOpLa  (None, 139, 32)     0           ['tf.compat.v1.squeeze_1[0][0]', \n",
      " mbda)                                                            'tf.math.reduce_mean[0][0]']    \n",
      "                                                                                                  \n",
      " ParticleNet_EdgeConv0_sc_act (  (None, 139, 32)     0           ['tf.__operators__.add_1[0][0]'] \n",
      " Activation)                                                                                      \n",
      "                                                                                                  \n",
      " tf.compat.v1.shape_1 (TFOpLamb  (3,)                0           ['ParticleNet_EdgeConv0_sc_act[0]\n",
      " da)                                                             [0]']                            \n",
      "                                                                                                  \n",
      " tf.__operators__.getitem_2 (Sl  ()                  0           ['tf.compat.v1.shape_1[0][0]']   \n",
      " icingOpLambda)                                                                                   \n",
      "                                                                                                  \n",
      " tf.range_1 (TFOpLambda)        (None,)              0           ['tf.__operators__.getitem_2[0][0\n",
      "                                                                 ]']                              \n",
      "                                                                                                  \n",
      " tf.reshape_1 (TFOpLambda)      (None, 1, 1, 1)      0           ['tf.range_1[0][0]']             \n",
      "                                                                                                  \n",
      " tf.tile_2 (TFOpLambda)         (None, 139, 7, 1)    0           ['tf.reshape_1[0][0]']           \n",
      "                                                                                                  \n",
      " tf.expand_dims_4 (TFOpLambda)  (None, 139, 7, 1)    0           ['tf.__operators__.getitem[0][0]'\n",
      "                                                                 ]                                \n",
      "                                                                                                  \n"
     ]
    },
    {
     "name": "stdout",
     "output_type": "stream",
     "text": [
      " tf.expand_dims_5 (TFOpLambda)  (None, 139, 1, 32)   0           ['ParticleNet_EdgeConv0_sc_act[0]\n",
      "                                                                 [0]']                            \n",
      "                                                                                                  \n",
      " tf.concat_2 (TFOpLambda)       (None, 139, 7, 2)    0           ['tf.tile_2[0][0]',              \n",
      "                                                                  'tf.expand_dims_4[0][0]']       \n",
      "                                                                                                  \n",
      " tf.tile_3 (TFOpLambda)         (None, 139, 7, 32)   0           ['tf.expand_dims_5[0][0]']       \n",
      "                                                                                                  \n",
      " tf.compat.v1.gather_nd_1 (TFOp  (None, 139, 7, 32)  0           ['ParticleNet_EdgeConv0_sc_act[0]\n",
      " Lambda)                                                         [0]',                            \n",
      "                                                                  'tf.concat_2[0][0]']            \n",
      "                                                                                                  \n",
      " tf.math.subtract_2 (TFOpLambda  (None, 139, 7, 32)  0           ['tf.compat.v1.gather_nd_1[0][0]'\n",
      " )                                                               , 'tf.tile_3[0][0]']             \n",
      "                                                                                                  \n",
      " tf.concat_3 (TFOpLambda)       (None, 139, 7, 64)   0           ['tf.tile_3[0][0]',              \n",
      "                                                                  'tf.math.subtract_2[0][0]']     \n",
      "                                                                                                  \n",
      " ParticleNet_EdgeConv1_conv0 (C  (None, 139, 7, 64)  4096        ['tf.concat_3[0][0]']            \n",
      " onv2D)                                                                                           \n",
      "                                                                                                  \n",
      " ParticleNet_EdgeConv1_bn0 (Bat  (None, 139, 7, 64)  256         ['ParticleNet_EdgeConv1_conv0[0][\n",
      " chNormalization)                                                0]']                             \n",
      "                                                                                                  \n",
      " ParticleNet_EdgeConv1_act0 (Ac  (None, 139, 7, 64)  0           ['ParticleNet_EdgeConv1_bn0[0][0]\n",
      " tivation)                                                       ']                               \n",
      "                                                                                                  \n",
      " ParticleNet_EdgeConv1_conv1 (C  (None, 139, 7, 64)  4096        ['ParticleNet_EdgeConv1_act0[0][0\n",
      " onv2D)                                                          ]']                              \n",
      "                                                                                                  \n",
      " ParticleNet_EdgeConv1_bn1 (Bat  (None, 139, 7, 64)  256         ['ParticleNet_EdgeConv1_conv1[0][\n",
      " chNormalization)                                                0]']                             \n",
      "                                                                                                  \n",
      " ParticleNet_EdgeConv1_act1 (Ac  (None, 139, 7, 64)  0           ['ParticleNet_EdgeConv1_bn1[0][0]\n",
      " tivation)                                                       ']                               \n",
      "                                                                                                  \n",
      " tf.expand_dims_6 (TFOpLambda)  (None, 139, 1, 32)   0           ['ParticleNet_EdgeConv0_sc_act[0]\n",
      "                                                                 [0]']                            \n",
      "                                                                                                  \n",
      " ParticleNet_EdgeConv1_conv2 (C  (None, 139, 7, 64)  4096        ['ParticleNet_EdgeConv1_act1[0][0\n",
      " onv2D)                                                          ]']                              \n",
      "                                                                                                  \n",
      " ParticleNet_EdgeConv1_sc_conv   (None, 139, 1, 64)  2048        ['tf.expand_dims_6[0][0]']       \n",
      " (Conv2D)                                                                                         \n",
      "                                                                                                  \n",
      " ParticleNet_EdgeConv1_bn2 (Bat  (None, 139, 7, 64)  256         ['ParticleNet_EdgeConv1_conv2[0][\n",
      " chNormalization)                                                0]']                             \n",
      "                                                                                                  \n",
      " ParticleNet_EdgeConv1_sc_bn (B  (None, 139, 1, 64)  256         ['ParticleNet_EdgeConv1_sc_conv[0\n",
      " atchNormalization)                                              ][0]']                           \n",
      "                                                                                                  \n",
      " ParticleNet_EdgeConv1_act2 (Ac  (None, 139, 7, 64)  0           ['ParticleNet_EdgeConv1_bn2[0][0]\n",
      " tivation)                                                       ']                               \n",
      "                                                                                                  \n",
      " tf.compat.v1.squeeze_2 (TFOpLa  (None, 139, 64)     0           ['ParticleNet_EdgeConv1_sc_bn[0][\n",
      " mbda)                                                           0]']                             \n",
      "                                                                                                  \n",
      " tf.math.reduce_mean_1 (TFOpLam  (None, 139, 64)     0           ['ParticleNet_EdgeConv1_act2[0][0\n",
      " bda)                                                            ]']                              \n",
      "                                                                                                  \n",
      " tf.__operators__.add_2 (TFOpLa  (None, 139, 64)     0           ['tf.compat.v1.squeeze_2[0][0]', \n",
      " mbda)                                                            'tf.math.reduce_mean_1[0][0]']  \n",
      "                                                                                                  \n",
      " ParticleNet_EdgeConv1_sc_act (  (None, 139, 64)     0           ['tf.__operators__.add_2[0][0]'] \n",
      " Activation)                                                                                      \n",
      "                                                                                                  \n",
      " tf.math.multiply_4 (TFOpLambda  (None, 139, 64)     0           ['ParticleNet_EdgeConv1_sc_act[0]\n",
      " )                                                               [0]',                            \n",
      "                                                                  'tf.cast[0][0]']                \n",
      "                                                                                                  \n",
      " tf.math.reduce_mean_2 (TFOpLam  (None, 64)          0           ['tf.math.multiply_4[0][0]']     \n",
      " bda)                                                                                             \n",
      "                                                                                                  \n",
      " dense (Dense)                  (None, 128)          8320        ['tf.math.reduce_mean_2[0][0]']  \n",
      "                                                                                                  \n",
      " dropout (Dropout)              (None, 128)          0           ['dense[0][0]']                  \n",
      "                                                                                                  \n",
      " dense_1 (Dense)                (None, 2)            258         ['dropout[0][0]']                \n",
      "                                                                                                  \n",
      "==================================================================================================\n",
      "Total params: 26,898\n",
      "Trainable params: 26,122\n",
      "Non-trainable params: 776\n",
      "__________________________________________________________________________________________________\n"
     ]
    }
   ],
   "source": [
    "model_lite_static.compile(loss = 'categorical_crossentropy',\n",
    "             optimizer=keras.optimizers.Adam(learning_rate=lr_schedule(0)),\n",
    "             metrics=['accuracy',tf.keras.metrics.AUC()])\n",
    "model_lite_static.summary()"
   ]
  },
  {
   "cell_type": "code",
   "execution_count": 13,
   "id": "71f24901",
   "metadata": {},
   "outputs": [
    {
     "name": "stdout",
     "output_type": "stream",
     "text": [
      "(80000, 139, 2)\n",
      "(80000, 139, 4)\n",
      "(80000, 139, 1)\n"
     ]
    }
   ],
   "source": [
    "lr_scheduler=keras.callbacks.LearningRateScheduler(lr_schedule)\n",
    "progress_bar = keras.callbacks.ProgbarLogger()\n",
    "callbacks=[lr_scheduler,progress_bar]\n",
    "print(train_dict['points'].shape)\n",
    "print(train_dict['features'].shape)\n",
    "print(train_dict['mask'].shape)"
   ]
  },
  {
   "cell_type": "markdown",
   "id": "98ebe066",
   "metadata": {},
   "source": [
    "### Training the model"
   ]
  },
  {
   "cell_type": "code",
   "execution_count": 15,
   "id": "5a169bd5",
   "metadata": {
    "scrolled": false
   },
   "outputs": [
    {
     "name": "stderr",
     "output_type": "stream",
     "text": [
      "[2022-04-01 11:46:06,009] INFO: Learning rate: 0.001000\n"
     ]
    },
    {
     "name": "stdout",
     "output_type": "stream",
     "text": [
      "Epoch 1/20\n",
      "267/267 [==============================] - 616s 2s/sample - loss: 0.4911 - accuracy: 0.7719 - auc: 0.8450 - val_loss: 0.4635 - val_accuracy: 0.7893 - val_auc: 0.8638 - lr: 0.0010\n"
     ]
    },
    {
     "name": "stderr",
     "output_type": "stream",
     "text": [
      "[2022-04-01 11:56:22,299] INFO: Learning rate: 0.001000\n"
     ]
    },
    {
     "name": "stdout",
     "output_type": "stream",
     "text": [
      "Epoch 2/20\n",
      "267/267 [==============================] - 410s 2s/sample - loss: 0.4569 - accuracy: 0.7961 - auc: 0.8675 - val_loss: 0.4491 - val_accuracy: 0.8012 - val_auc: 0.8724 - lr: 0.0010\n"
     ]
    },
    {
     "name": "stderr",
     "output_type": "stream",
     "text": [
      "[2022-04-01 12:03:12,336] INFO: Learning rate: 0.001000\n"
     ]
    },
    {
     "name": "stdout",
     "output_type": "stream",
     "text": [
      "Epoch 3/20\n",
      "267/267 [==============================] - 406s 2s/sample - loss: 0.4463 - accuracy: 0.8023 - auc: 0.8738 - val_loss: 0.4398 - val_accuracy: 0.8027 - val_auc: 0.8781 - lr: 0.0010\n"
     ]
    },
    {
     "name": "stderr",
     "output_type": "stream",
     "text": [
      "[2022-04-01 12:09:57,903] INFO: Learning rate: 0.001000\n"
     ]
    },
    {
     "name": "stdout",
     "output_type": "stream",
     "text": [
      "Epoch 4/20\n",
      "267/267 [==============================] - 329s 1s/sample - loss: 0.4405 - accuracy: 0.8048 - auc: 0.8773 - val_loss: 0.4349 - val_accuracy: 0.8045 - val_auc: 0.8811 - lr: 0.0010\n"
     ]
    },
    {
     "name": "stderr",
     "output_type": "stream",
     "text": [
      "[2022-04-01 12:15:27,172] INFO: Learning rate: 0.001000\n"
     ]
    },
    {
     "name": "stdout",
     "output_type": "stream",
     "text": [
      "Epoch 5/20\n",
      "267/267 [==============================] - 328s 1s/sample - loss: 0.4364 - accuracy: 0.8065 - auc: 0.8798 - val_loss: 0.4433 - val_accuracy: 0.8014 - val_auc: 0.8776 - lr: 0.0010\n"
     ]
    },
    {
     "name": "stderr",
     "output_type": "stream",
     "text": [
      "[2022-04-01 12:20:54,886] INFO: Learning rate: 0.001000\n"
     ]
    },
    {
     "name": "stdout",
     "output_type": "stream",
     "text": [
      "Epoch 6/20\n",
      "267/267 [==============================] - 315s 1s/sample - loss: 0.4333 - accuracy: 0.8078 - auc: 0.8817 - val_loss: 0.4428 - val_accuracy: 0.7992 - val_auc: 0.8764 - lr: 0.0010\n"
     ]
    },
    {
     "name": "stderr",
     "output_type": "stream",
     "text": [
      "[2022-04-01 12:26:09,965] INFO: Learning rate: 0.001000\n"
     ]
    },
    {
     "name": "stdout",
     "output_type": "stream",
     "text": [
      "Epoch 7/20\n",
      "267/267 [==============================] - 353s 1s/sample - loss: 0.4308 - accuracy: 0.8085 - auc: 0.8833 - val_loss: 0.4385 - val_accuracy: 0.8047 - val_auc: 0.8800 - lr: 0.0010\n"
     ]
    },
    {
     "name": "stderr",
     "output_type": "stream",
     "text": [
      "[2022-04-01 12:32:03,035] INFO: Learning rate: 0.001000\n"
     ]
    },
    {
     "name": "stdout",
     "output_type": "stream",
     "text": [
      "Epoch 8/20\n",
      "267/267 [==============================] - 399s 1s/sample - loss: 0.4285 - accuracy: 0.8105 - auc: 0.8847 - val_loss: 0.4408 - val_accuracy: 0.7994 - val_auc: 0.8775 - lr: 0.0010\n"
     ]
    },
    {
     "name": "stderr",
     "output_type": "stream",
     "text": [
      "[2022-04-01 12:38:42,144] INFO: Learning rate: 0.001000\n"
     ]
    },
    {
     "name": "stdout",
     "output_type": "stream",
     "text": [
      "Epoch 9/20\n",
      "267/267 [==============================] - 398s 1s/sample - loss: 0.4258 - accuracy: 0.8119 - auc: 0.8862 - val_loss: 0.4421 - val_accuracy: 0.7994 - val_auc: 0.8768 - lr: 0.0010\n"
     ]
    },
    {
     "name": "stderr",
     "output_type": "stream",
     "text": [
      "[2022-04-01 12:45:20,505] INFO: Learning rate: 0.001000\n"
     ]
    },
    {
     "name": "stdout",
     "output_type": "stream",
     "text": [
      "Epoch 10/20\n",
      "267/267 [==============================] - 398s 1s/sample - loss: 0.4238 - accuracy: 0.8126 - auc: 0.8874 - val_loss: 0.4320 - val_accuracy: 0.8064 - val_auc: 0.8836 - lr: 0.0010\n"
     ]
    },
    {
     "name": "stderr",
     "output_type": "stream",
     "text": [
      "[2022-04-01 12:51:58,233] INFO: Learning rate: 0.000100\n"
     ]
    },
    {
     "name": "stdout",
     "output_type": "stream",
     "text": [
      "Epoch 11/20\n",
      "267/267 [==============================] - 333s 1s/sample - loss: 0.4172 - accuracy: 0.8163 - auc: 0.8911 - val_loss: 0.4207 - val_accuracy: 0.8115 - val_auc: 0.8891 - lr: 1.0000e-04\n"
     ]
    },
    {
     "name": "stderr",
     "output_type": "stream",
     "text": [
      "[2022-04-01 12:57:31,532] INFO: Learning rate: 0.000100\n"
     ]
    },
    {
     "name": "stdout",
     "output_type": "stream",
     "text": [
      "Epoch 12/20\n",
      "267/267 [==============================] - 288s 1s/sample - loss: 0.4156 - accuracy: 0.8164 - auc: 0.8920 - val_loss: 0.4199 - val_accuracy: 0.8115 - val_auc: 0.8896 - lr: 1.0000e-04\n"
     ]
    },
    {
     "name": "stderr",
     "output_type": "stream",
     "text": [
      "[2022-04-01 13:02:19,255] INFO: Learning rate: 0.000100\n"
     ]
    },
    {
     "name": "stdout",
     "output_type": "stream",
     "text": [
      "Epoch 13/20\n",
      "267/267 [==============================] - 297s 1s/sample - loss: 0.4149 - accuracy: 0.8167 - auc: 0.8924 - val_loss: 0.4206 - val_accuracy: 0.8109 - val_auc: 0.8892 - lr: 1.0000e-04\n"
     ]
    },
    {
     "name": "stderr",
     "output_type": "stream",
     "text": [
      "[2022-04-01 13:07:16,516] INFO: Learning rate: 0.000100\n"
     ]
    },
    {
     "name": "stdout",
     "output_type": "stream",
     "text": [
      "Epoch 14/20\n",
      "267/267 [==============================] - 303s 1s/sample - loss: 0.4145 - accuracy: 0.8176 - auc: 0.8926 - val_loss: 0.4231 - val_accuracy: 0.8107 - val_auc: 0.8883 - lr: 1.0000e-04\n"
     ]
    },
    {
     "name": "stderr",
     "output_type": "stream",
     "text": [
      "[2022-04-01 13:12:19,505] INFO: Learning rate: 0.000100\n"
     ]
    },
    {
     "name": "stdout",
     "output_type": "stream",
     "text": [
      "Epoch 15/20\n",
      "267/267 [==============================] - 339s 1s/sample - loss: 0.4136 - accuracy: 0.8174 - auc: 0.8931 - val_loss: 0.4194 - val_accuracy: 0.8117 - val_auc: 0.8899 - lr: 1.0000e-04\n"
     ]
    },
    {
     "name": "stderr",
     "output_type": "stream",
     "text": [
      "[2022-04-01 13:17:58,703] INFO: Learning rate: 0.000100\n"
     ]
    },
    {
     "name": "stdout",
     "output_type": "stream",
     "text": [
      "Epoch 16/20\n",
      "267/267 [==============================] - 442s 2s/sample - loss: 0.4141 - accuracy: 0.8177 - auc: 0.8929 - val_loss: 0.4188 - val_accuracy: 0.8132 - val_auc: 0.8902 - lr: 1.0000e-04\n"
     ]
    },
    {
     "name": "stderr",
     "output_type": "stream",
     "text": [
      "[2022-04-01 13:25:20,764] INFO: Learning rate: 0.000100\n"
     ]
    },
    {
     "name": "stdout",
     "output_type": "stream",
     "text": [
      "Epoch 17/20\n",
      "267/267 [==============================] - 394s 1s/sample - loss: 0.4133 - accuracy: 0.8179 - auc: 0.8932 - val_loss: 0.4221 - val_accuracy: 0.8125 - val_auc: 0.8883 - lr: 1.0000e-04\n"
     ]
    },
    {
     "name": "stderr",
     "output_type": "stream",
     "text": [
      "[2022-04-01 13:31:54,489] INFO: Learning rate: 0.000100\n"
     ]
    },
    {
     "name": "stdout",
     "output_type": "stream",
     "text": [
      "Epoch 18/20\n",
      "267/267 [==============================] - 410s 2s/sample - loss: 0.4129 - accuracy: 0.8180 - auc: 0.8935 - val_loss: 0.4199 - val_accuracy: 0.8128 - val_auc: 0.8899 - lr: 1.0000e-04\n"
     ]
    },
    {
     "name": "stderr",
     "output_type": "stream",
     "text": [
      "[2022-04-01 13:38:44,385] INFO: Learning rate: 0.000100\n"
     ]
    },
    {
     "name": "stdout",
     "output_type": "stream",
     "text": [
      "Epoch 19/20\n",
      "267/267 [==============================] - 397s 1s/sample - loss: 0.4126 - accuracy: 0.8185 - auc: 0.8937 - val_loss: 0.4185 - val_accuracy: 0.8125 - val_auc: 0.8904 - lr: 1.0000e-04\n"
     ]
    },
    {
     "name": "stderr",
     "output_type": "stream",
     "text": [
      "[2022-04-01 13:45:21,535] INFO: Learning rate: 0.000001\n"
     ]
    },
    {
     "name": "stdout",
     "output_type": "stream",
     "text": [
      "Epoch 20/20\n",
      "267/267 [==============================] - 341s 1s/sample - loss: 0.4116 - accuracy: 0.8182 - auc: 0.8942 - val_loss: 0.4183 - val_accuracy: 0.8124 - val_auc: 0.8906 - lr: 1.0000e-06\n"
     ]
    }
   ],
   "source": [
    "history = model_lite_static.fit(train_dict,\n",
    "                   y_train, \n",
    "                   epochs=epochs,\n",
    "                   batch_size=batch_size,\n",
    "                   callbacks=callbacks,\n",
    "                   validation_data=(val_dict,y_val),\n",
    "                   shuffle=True)"
   ]
  },
  {
   "cell_type": "code",
   "execution_count": 16,
   "id": "da1551eb",
   "metadata": {},
   "outputs": [],
   "source": [
    "#  import csv\n",
    "\n",
    "# w = csv.writer(open(\"./train_history_sgcnn.csv\", \"w\"))\n",
    "# for key, val in history.history.items():\n",
    "#     w.writerow([key, val])"
   ]
  },
  {
   "cell_type": "markdown",
   "id": "f1d9ef24",
   "metadata": {},
   "source": [
    "## AUC"
   ]
  },
  {
   "cell_type": "code",
   "execution_count": 18,
   "id": "dc68e89c",
   "metadata": {},
   "outputs": [
    {
     "data": {
      "image/png": "[encoded data removed]",
      "text/plain": [
       "<Figure size 432x288 with 1 Axes>"
      ]
     },
     "metadata": {
      "needs_background": "light"
     },
     "output_type": "display_data"
    }
   ],
   "source": [
    "plt.plot(np.linspace(1,epochs,epochs, dtype=int), history.history['auc'], color='green', label='Training AUC')\n",
    "plt.plot(np.linspace(1,epochs,epochs, dtype=int), history.history['val_auc'], color='red', label='Validation AUC')\n",
    "plt.xlabel(\"Epochs\")\n",
    "plt.ylabel(\"AUC\")\n",
    "plt.title(\"AUC of Dynamic Graph CNN Model\")\n",
    "plt.legend()\n",
    "plt.show()"
   ]
  },
  {
   "cell_type": "markdown",
   "id": "39e6b614",
   "metadata": {},
   "source": [
    "### Accuracy"
   ]
  },
  {
   "cell_type": "code",
   "execution_count": 22,
   "id": "29f4a42c",
   "metadata": {},
   "outputs": [
    {
     "data": {
      "image/png": "[encoded data removed]",
      "text/plain": [
       "<Figure size 432x288 with 1 Axes>"
      ]
     },
     "metadata": {
      "needs_background": "light"
     },
     "output_type": "display_data"
    }
   ],
   "source": [
    "plt.plot(np.linspace(1,epochs,epochs, dtype=int), history.history['accuracy'], color='green', label='Training AUC')\n",
    "plt.plot(np.linspace(1,epochs,epochs, dtype=int), history.history['val_accuracy'], color='red', label='Validation AUC')\n",
    "plt.xlabel(\"Epochs\")\n",
    "plt.ylabel(\"Accuracy\")\n",
    "plt.title(\"Accuracy of Dynamic Graph CNN Model\")\n",
    "plt.legend()\n",
    "plt.show()"
   ]
  },
  {
   "cell_type": "markdown",
   "id": "017f28bd",
   "metadata": {},
   "source": [
    "### Loss "
   ]
  },
  {
   "cell_type": "code",
   "execution_count": 23,
   "id": "708e3e94",
   "metadata": {},
   "outputs": [
    {
     "data": {
      "image/png": "[encoded data removed]",
      "text/plain": [
       "<Figure size 432x288 with 1 Axes>"
      ]
     },
     "metadata": {
      "needs_background": "light"
     },
     "output_type": "display_data"
    }
   ],
   "source": [
    " plt.plot(np.linspace(1,epochs,epochs, dtype=int), history.history['loss'], color='green     ', label='Training AUC')\n",
    "plt.plot(np.linspace(1,epochs,epochs, dtype=int), history.history['val_loss'], color='red', label='Validation AUC')\n",
    "plt.xlabel(\"Epochs\")\n",
    "plt.ylabel(\"Loss\")\n",
    "plt.title(\"Loss of Dynamic Graph CNN Model\")\n",
    "plt.legend()\n",
    "plt.show()"
   ]
  },
  {
   "cell_type": "markdown",
   "id": "38d66634",
   "metadata": {},
   "source": [
    "## Evaluation"
   ]
  },
  {
   "cell_type": "code",
   "execution_count": 21,
   "id": "d1c393de",
   "metadata": {
    "scrolled": true
   },
   "outputs": [
    {
     "name": "stdout",
     "output_type": "stream",
     "text": [
      "313/313 [==============================] - 10s 32ms/step - loss: 0.4192 - accuracy: 0.8115 - auc: 0.8899\n",
      "Evaluation Metric of Dynamic Graph CNN Model on Test Dataset\n",
      "Loss: 0.41921645402908325\n",
      "Accuracy: 0.8115000128746033\n",
      "AUC: 0.8898574113845825\n"
     ]
    }
   ],
   "source": [
    "loss, acc, auc = model_lite_static.evaluate(test_dict, y_test)\n",
    "print(\"Evaluation Metric of Dynamic Graph CNN Model on Test Dataset\")\n",
    "print(\"Loss:\", loss)\n",
    "print(\"Accuracy:\", acc)\n",
    "print(\"AUC:\", auc)\n"
   ]
  },
  {
   "cell_type": "markdown",
   "id": "cee8835c",
   "metadata": {},
   "source": [
    "# Results & Conclusion\n"
   ]
  },
  {
   "cell_type": "code",
   "execution_count": 45,
   "id": "61892954",
   "metadata": {},
   "outputs": [
    {
     "name": "stdout",
     "output_type": "stream",
     "text": [
      "ParticleNet Lite (Dynamic)\n",
      "           Train Validation    Test\n",
      "Accuracy  0.8153     0.8095  0.8119\n",
      "AUC       0.8910     0.8862  0.8858\n",
      "Loss      0.4175     0.4264  0.4261\n",
      "ParticleNet Lite (Static)\n",
      "           Train Validation    Test\n",
      "Accuracy  0.8182     0.8124  0.8115\n",
      "AUC       0.8942     0.8096  0.8899\n",
      "Loss      0.4116     0.4183  0.4192\n"
     ]
    }
   ],
   "source": [
    "# rows = \n",
    "columns = ['Train', 'Validation', 'Test']\n",
    "Metrics = ['Accuracy', 'AUC', 'Loss']\n",
    "dynamic_results={\n",
    "                'Train':['0.8153','0.8910','0.4175'],\n",
    "                'Validation':['0.8095','0.8862','0.4264'],\n",
    "                'Test':['0.8119','0.8858','0.4261']}\n",
    "static_results={'Train':['0.8182','0.8942','0.4116'],\n",
    "               'Validation':['0.8124','0.8096','0.4183'],\n",
    "               'Test':['0.8115','0.8899','0.4192']}\n",
    "\n",
    "results_dynamic=pd.DataFrame(dynamic_results,index=Metrics)\n",
    "results_static=pd.DataFrame(static_results,index=Metrics)\n",
    "print('ParticleNet Lite (Dynamic)')\n",
    "print(results_dynamic)\n",
    "print('ParticleNet Lite (Static)')\n",
    "print(results_static)"
   ]
  },
  {
   "cell_type": "markdown",
   "id": "43ced3ee",
   "metadata": {},
   "source": [
    "From the above results, we can say that\n",
    "<ul>\n",
    "    <li>It is not appropriate to consider the overall training time as a metric for superiority because we use a small number of data samples here, also both models train in almost similar time. However, there is a difference of ~12 seconds in the time/epoch for each model, but I found that there is a high variance in times required for each epoch. This maybe because of the hardware.</li>\n",
    "    <li>The static model gives better performance on the training dataset which also signals that there is not much gain due to the dynamic update operation and the model would give same or better performance even without the operation. </li>\n",
    "    <li>Also the loss incurred is less for the static model in all three divisions(train,validation,test)</li>\n",
    "    <li>From the graphs plotted, it is observed that the validation curve shows unstabiliies for both models which may be attributed to the short size of the dataset.</li><br>\n",
    "    <br><i>Overall, the ParticleNet (static) model performs better than the dynamic model.</i>"
   ]
  },
  {
   "cell_type": "markdown",
   "id": "9d758a73",
   "metadata": {},
   "source": [
    "# References\n",
    "[1]-[Y. Wang, Y. Sun, Z. Liu, S. E. Sarma, M. M. Bronstein,and J. M. Solomon, “Dynamic graph cnn for learning on point clouds,”](https://arxiv.org/abs/1801.07829)<br>\n",
    "[2]-[H. Qu and L. Gouskos, “Jet tagging via particle clouds,” Phys. Rev. D, vol. 101, no. 5, p. 056019, Mar. 2020.](https://arxiv.org/abs/1902.08570)<br>\n",
    "[3]-[Vinicius Mikuni and Florencia Canelli. Abcnet: An attention-based method for particle tagging,\n",
    "2020](https://arxiv.org/abs/2001.05311)<br>\n",
    "[4]-[I. Henrion, J. Brehmer, J. Bruna, K. Cho, K. Cranmer,G. Louppe, and G. Rochette, “Neural Message Passingfor Jet Physics,” in Deep Learning for Physical Sciences Workshop at the 31st Conference on Neural InformationProcessing Systems (NIPS) (2017).](https://dl4physicalsciences.github.io/files/nips_dlps_2017_29.pdf)"
   ]
  },
  {
   "cell_type": "code",
   "execution_count": null,
   "id": "d1536e1e",
   "metadata": {},
   "outputs": [],
   "source": []
  },
  {
   "cell_type": "code",
   "execution_count": null,
   "id": "b88b3e0d",
   "metadata": {},
   "outputs": [],
   "source": []
  }
 ],
 "metadata": {
  "kernelspec": {
   "display_name": "Python 3",
   "language": "python",
   "name": "python3"
  },
  "language_info": {
   "codemirror_mode": {
    "name": "ipython",
    "version": 3
   },
   "file_extension": ".py",
   "mimetype": "text/x-python",
   "name": "python",
   "nbconvert_exporter": "python",
   "pygments_lexer": "ipython3",
   "version": "3.8.8"
  }
 },
 "nbformat": 4,
 "nbformat_minor": 5
}
